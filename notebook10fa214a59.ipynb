{
 "cells": [
  {
   "cell_type": "code",
   "execution_count": 1,
   "id": "5029e2eb",
   "metadata": {
    "_cell_guid": "b1076dfc-b9ad-4769-8c92-a6c4dae69d19",
    "_uuid": "8f2839f25d086af736a60e9eeb907d3b93b6e0e5",
    "execution": {
     "iopub.execute_input": "2024-10-26T06:25:20.840301Z",
     "iopub.status.busy": "2024-10-26T06:25:20.839417Z",
     "iopub.status.idle": "2024-10-26T06:25:21.738316Z",
     "shell.execute_reply": "2024-10-26T06:25:21.736762Z"
    },
    "papermill": {
     "duration": 0.91655,
     "end_time": "2024-10-26T06:25:21.742847",
     "exception": false,
     "start_time": "2024-10-26T06:25:20.826297",
     "status": "completed"
    },
    "tags": []
   },
   "outputs": [
    {
     "name": "stdout",
     "output_type": "stream",
     "text": [
      "/kaggle/input/largest-companies-analysis-worldwide/Companies_ranked_by_Dividend_Yield.csv\n",
      "/kaggle/input/largest-companies-analysis-worldwide/Companies_ranked_by_Earnings.csv\n",
      "/kaggle/input/largest-companies-analysis-worldwide/Companies_ranked_by_P_E_ratio.csv\n",
      "/kaggle/input/largest-companies-analysis-worldwide/Companies_ranked_by_Revenue.csv\n",
      "/kaggle/input/largest-companies-analysis-worldwide/Companies_ranked_by_Market_Cap.csv\n"
     ]
    }
   ],
   "source": [
    "# This Python 3 environment comes with many helpful analytics libraries installed\n",
    "# It is defined by the kaggle/python Docker image: https://github.com/kaggle/docker-python\n",
    "# For example, here's several helpful packages to load\n",
    "\n",
    "import numpy as np # linear algebra\n",
    "import pandas as pd # data processing, CSV file I/O (e.g. pd.read_csv)\n",
    "\n",
    "# Input data files are available in the read-only \"../input/\" directory\n",
    "# For example, running this (by clicking run or pressing Shift+Enter) will list all files under the input directory\n",
    "\n",
    "import os\n",
    "for dirname, _, filenames in os.walk('/kaggle/input'):\n",
    "    for filename in filenames:\n",
    "        print(os.path.join(dirname, filename))\n",
    "\n",
    "# You can write up to 20GB to the current directory (/kaggle/working/) that gets preserved as output when you create a version using \"Save & Run All\" \n",
    "# You can also write temporary files to /kaggle/temp/, but they won't be saved outside of the current session"
   ]
  },
  {
   "cell_type": "code",
   "execution_count": 2,
   "id": "b54c36e8",
   "metadata": {
    "execution": {
     "iopub.execute_input": "2024-10-26T06:25:21.769263Z",
     "iopub.status.busy": "2024-10-26T06:25:21.768687Z",
     "iopub.status.idle": "2024-10-26T06:25:23.578259Z",
     "shell.execute_reply": "2024-10-26T06:25:23.577094Z"
    },
    "papermill": {
     "duration": 1.825657,
     "end_time": "2024-10-26T06:25:23.580989",
     "exception": false,
     "start_time": "2024-10-26T06:25:21.755332",
     "status": "completed"
    },
    "tags": []
   },
   "outputs": [],
   "source": [
    "import pandas as pd\n",
    "import seaborn as sns\n",
    "import matplotlib.pyplot as plt"
   ]
  },
  {
   "cell_type": "markdown",
   "id": "a73ff765",
   "metadata": {
    "papermill": {
     "duration": 0.010428,
     "end_time": "2024-10-26T06:25:23.602292",
     "exception": false,
     "start_time": "2024-10-26T06:25:23.591864",
     "status": "completed"
    },
    "tags": []
   },
   "source": [
    "# Reading datasets"
   ]
  },
  {
   "cell_type": "code",
   "execution_count": 3,
   "id": "d8cab1bf",
   "metadata": {
    "execution": {
     "iopub.execute_input": "2024-10-26T06:25:23.627478Z",
     "iopub.status.busy": "2024-10-26T06:25:23.626461Z",
     "iopub.status.idle": "2024-10-26T06:25:23.701604Z",
     "shell.execute_reply": "2024-10-26T06:25:23.700306Z"
    },
    "papermill": {
     "duration": 0.091306,
     "end_time": "2024-10-26T06:25:23.704297",
     "exception": false,
     "start_time": "2024-10-26T06:25:23.612991",
     "status": "completed"
    },
    "tags": []
   },
   "outputs": [
    {
     "data": {
      "text/html": [
       "<div>\n",
       "<style scoped>\n",
       "    .dataframe tbody tr th:only-of-type {\n",
       "        vertical-align: middle;\n",
       "    }\n",
       "\n",
       "    .dataframe tbody tr th {\n",
       "        vertical-align: top;\n",
       "    }\n",
       "\n",
       "    .dataframe thead th {\n",
       "        text-align: right;\n",
       "    }\n",
       "</style>\n",
       "<table border=\"1\" class=\"dataframe\">\n",
       "  <thead>\n",
       "    <tr style=\"text-align: right;\">\n",
       "      <th></th>\n",
       "      <th>Rank</th>\n",
       "      <th>Name</th>\n",
       "      <th>Symbol</th>\n",
       "      <th>dividend_yield_ttm</th>\n",
       "      <th>price (GBP)</th>\n",
       "      <th>country</th>\n",
       "    </tr>\n",
       "  </thead>\n",
       "  <tbody>\n",
       "    <tr>\n",
       "      <th>0</th>\n",
       "      <td>1</td>\n",
       "      <td>LianBio</td>\n",
       "      <td>LIAN</td>\n",
       "      <td>300940.0</td>\n",
       "      <td>0.243065</td>\n",
       "      <td>United States</td>\n",
       "    </tr>\n",
       "    <tr>\n",
       "      <th>1</th>\n",
       "      <td>2</td>\n",
       "      <td>Richter Gedeon</td>\n",
       "      <td>RIG2.F</td>\n",
       "      <td>150430.0</td>\n",
       "      <td>23.726825</td>\n",
       "      <td>Hungary</td>\n",
       "    </tr>\n",
       "    <tr>\n",
       "      <th>2</th>\n",
       "      <td>3</td>\n",
       "      <td>Delek Group</td>\n",
       "      <td>DLEKG.TA</td>\n",
       "      <td>117114.0</td>\n",
       "      <td>87.735884</td>\n",
       "      <td>Israel</td>\n",
       "    </tr>\n",
       "    <tr>\n",
       "      <th>3</th>\n",
       "      <td>4</td>\n",
       "      <td>LMP Automotive Holdings</td>\n",
       "      <td>LMPX</td>\n",
       "      <td>106250.0</td>\n",
       "      <td>0.121914</td>\n",
       "      <td>United States</td>\n",
       "    </tr>\n",
       "    <tr>\n",
       "      <th>4</th>\n",
       "      <td>5</td>\n",
       "      <td>MBIA</td>\n",
       "      <td>MBI</td>\n",
       "      <td>22346.4</td>\n",
       "      <td>2.727817</td>\n",
       "      <td>United States</td>\n",
       "    </tr>\n",
       "    <tr>\n",
       "      <th>...</th>\n",
       "      <td>...</td>\n",
       "      <td>...</td>\n",
       "      <td>...</td>\n",
       "      <td>...</td>\n",
       "      <td>...</td>\n",
       "      <td>...</td>\n",
       "    </tr>\n",
       "    <tr>\n",
       "      <th>9907</th>\n",
       "      <td>9908</td>\n",
       "      <td>Lite-On Technology</td>\n",
       "      <td>2301.TW</td>\n",
       "      <td>0.0</td>\n",
       "      <td>2.366853</td>\n",
       "      <td>Taiwan</td>\n",
       "    </tr>\n",
       "    <tr>\n",
       "      <th>9908</th>\n",
       "      <td>9909</td>\n",
       "      <td>Zensho Holdings</td>\n",
       "      <td>7550.T</td>\n",
       "      <td>0.0</td>\n",
       "      <td>42.447877</td>\n",
       "      <td>Japan</td>\n",
       "    </tr>\n",
       "    <tr>\n",
       "      <th>9909</th>\n",
       "      <td>9910</td>\n",
       "      <td>BKV Corporation</td>\n",
       "      <td>BKV</td>\n",
       "      <td>0.0</td>\n",
       "      <td>13.867596</td>\n",
       "      <td>United States</td>\n",
       "    </tr>\n",
       "    <tr>\n",
       "      <th>9910</th>\n",
       "      <td>9911</td>\n",
       "      <td>BioAge Labs</td>\n",
       "      <td>BIOA</td>\n",
       "      <td>0.0</td>\n",
       "      <td>16.679304</td>\n",
       "      <td>United States</td>\n",
       "    </tr>\n",
       "    <tr>\n",
       "      <th>9911</th>\n",
       "      <td>9912</td>\n",
       "      <td>Legacy Education</td>\n",
       "      <td>LGCY</td>\n",
       "      <td>0.0</td>\n",
       "      <td>3.466385</td>\n",
       "      <td>United States</td>\n",
       "    </tr>\n",
       "  </tbody>\n",
       "</table>\n",
       "<p>9912 rows × 6 columns</p>\n",
       "</div>"
      ],
      "text/plain": [
       "      Rank                     Name    Symbol  dividend_yield_ttm  \\\n",
       "0        1                  LianBio      LIAN            300940.0   \n",
       "1        2           Richter Gedeon    RIG2.F            150430.0   \n",
       "2        3              Delek Group  DLEKG.TA            117114.0   \n",
       "3        4  LMP Automotive Holdings      LMPX            106250.0   \n",
       "4        5                     MBIA       MBI             22346.4   \n",
       "...    ...                      ...       ...                 ...   \n",
       "9907  9908       Lite-On Technology   2301.TW                 0.0   \n",
       "9908  9909          Zensho Holdings    7550.T                 0.0   \n",
       "9909  9910          BKV Corporation       BKV                 0.0   \n",
       "9910  9911              BioAge Labs      BIOA                 0.0   \n",
       "9911  9912         Legacy Education      LGCY                 0.0   \n",
       "\n",
       "      price (GBP)        country  \n",
       "0        0.243065  United States  \n",
       "1       23.726825        Hungary  \n",
       "2       87.735884         Israel  \n",
       "3        0.121914  United States  \n",
       "4        2.727817  United States  \n",
       "...           ...            ...  \n",
       "9907     2.366853         Taiwan  \n",
       "9908    42.447877          Japan  \n",
       "9909    13.867596  United States  \n",
       "9910    16.679304  United States  \n",
       "9911     3.466385  United States  \n",
       "\n",
       "[9912 rows x 6 columns]"
      ]
     },
     "execution_count": 3,
     "metadata": {},
     "output_type": "execute_result"
    }
   ],
   "source": [
    "dataset_1=pd.read_csv(\"/kaggle/input/largest-companies-analysis-worldwide/Companies_ranked_by_Dividend_Yield.csv\")\n",
    "dataset_1"
   ]
  },
  {
   "cell_type": "code",
   "execution_count": 4,
   "id": "768a095f",
   "metadata": {
    "execution": {
     "iopub.execute_input": "2024-10-26T06:25:23.729050Z",
     "iopub.status.busy": "2024-10-26T06:25:23.728606Z",
     "iopub.status.idle": "2024-10-26T06:25:23.786507Z",
     "shell.execute_reply": "2024-10-26T06:25:23.784993Z"
    },
    "papermill": {
     "duration": 0.073477,
     "end_time": "2024-10-26T06:25:23.789139",
     "exception": false,
     "start_time": "2024-10-26T06:25:23.715662",
     "status": "completed"
    },
    "tags": []
   },
   "outputs": [
    {
     "data": {
      "text/html": [
       "<div>\n",
       "<style scoped>\n",
       "    .dataframe tbody tr th:only-of-type {\n",
       "        vertical-align: middle;\n",
       "    }\n",
       "\n",
       "    .dataframe tbody tr th {\n",
       "        vertical-align: top;\n",
       "    }\n",
       "\n",
       "    .dataframe thead th {\n",
       "        text-align: right;\n",
       "    }\n",
       "</style>\n",
       "<table border=\"1\" class=\"dataframe\">\n",
       "  <thead>\n",
       "    <tr style=\"text-align: right;\">\n",
       "      <th></th>\n",
       "      <th>Rank</th>\n",
       "      <th>Name</th>\n",
       "      <th>Symbol</th>\n",
       "      <th>earnings_ttm</th>\n",
       "      <th>price (GBP)</th>\n",
       "      <th>country</th>\n",
       "    </tr>\n",
       "  </thead>\n",
       "  <tbody>\n",
       "    <tr>\n",
       "      <th>0</th>\n",
       "      <td>1</td>\n",
       "      <td>Saudi Aramco</td>\n",
       "      <td>2222.SR</td>\n",
       "      <td>2.283780e+11</td>\n",
       "      <td>5.505405</td>\n",
       "      <td>Saudi Arabia</td>\n",
       "    </tr>\n",
       "    <tr>\n",
       "      <th>1</th>\n",
       "      <td>2</td>\n",
       "      <td>Apple</td>\n",
       "      <td>AAPL</td>\n",
       "      <td>1.216250e+11</td>\n",
       "      <td>176.734336</td>\n",
       "      <td>United States</td>\n",
       "    </tr>\n",
       "    <tr>\n",
       "      <th>2</th>\n",
       "      <td>3</td>\n",
       "      <td>Microsoft</td>\n",
       "      <td>MSFT</td>\n",
       "      <td>1.077870e+11</td>\n",
       "      <td>326.461762</td>\n",
       "      <td>United States</td>\n",
       "    </tr>\n",
       "    <tr>\n",
       "      <th>3</th>\n",
       "      <td>4</td>\n",
       "      <td>Alphabet (Google)</td>\n",
       "      <td>GOOG</td>\n",
       "      <td>1.018210e+11</td>\n",
       "      <td>126.279631</td>\n",
       "      <td>United States</td>\n",
       "    </tr>\n",
       "    <tr>\n",
       "      <th>4</th>\n",
       "      <td>5</td>\n",
       "      <td>Berkshire Hathaway</td>\n",
       "      <td>BRK-B</td>\n",
       "      <td>8.890400e+10</td>\n",
       "      <td>347.625201</td>\n",
       "      <td>United States</td>\n",
       "    </tr>\n",
       "    <tr>\n",
       "      <th>...</th>\n",
       "      <td>...</td>\n",
       "      <td>...</td>\n",
       "      <td>...</td>\n",
       "      <td>...</td>\n",
       "      <td>...</td>\n",
       "      <td>...</td>\n",
       "    </tr>\n",
       "    <tr>\n",
       "      <th>9907</th>\n",
       "      <td>9908</td>\n",
       "      <td>Vodafone</td>\n",
       "      <td>VOD</td>\n",
       "      <td>-7.932050e+09</td>\n",
       "      <td>7.657698</td>\n",
       "      <td>United Kingdom</td>\n",
       "    </tr>\n",
       "    <tr>\n",
       "      <th>9908</th>\n",
       "      <td>9909</td>\n",
       "      <td>Warner Bros. Discovery</td>\n",
       "      <td>WBD</td>\n",
       "      <td>-9.890000e+09</td>\n",
       "      <td>6.217594</td>\n",
       "      <td>United States</td>\n",
       "    </tr>\n",
       "    <tr>\n",
       "      <th>9909</th>\n",
       "      <td>9910</td>\n",
       "      <td>Walgreens Boots Alliance</td>\n",
       "      <td>WBA</td>\n",
       "      <td>-1.309100e+10</td>\n",
       "      <td>6.861450</td>\n",
       "      <td>United States</td>\n",
       "    </tr>\n",
       "    <tr>\n",
       "      <th>9910</th>\n",
       "      <td>9911</td>\n",
       "      <td>Veolia</td>\n",
       "      <td>VIE.PA</td>\n",
       "      <td>-1.444810e+10</td>\n",
       "      <td>24.849801</td>\n",
       "      <td>France</td>\n",
       "    </tr>\n",
       "    <tr>\n",
       "      <th>9911</th>\n",
       "      <td>9912</td>\n",
       "      <td>Maersk</td>\n",
       "      <td>MAERSK-B.CO</td>\n",
       "      <td>-1.730700e+10</td>\n",
       "      <td>1275.208636</td>\n",
       "      <td>Denmark</td>\n",
       "    </tr>\n",
       "  </tbody>\n",
       "</table>\n",
       "<p>9912 rows × 6 columns</p>\n",
       "</div>"
      ],
      "text/plain": [
       "      Rank                      Name       Symbol  earnings_ttm  price (GBP)  \\\n",
       "0        1              Saudi Aramco      2222.SR  2.283780e+11     5.505405   \n",
       "1        2                     Apple         AAPL  1.216250e+11   176.734336   \n",
       "2        3                 Microsoft         MSFT  1.077870e+11   326.461762   \n",
       "3        4         Alphabet (Google)         GOOG  1.018210e+11   126.279631   \n",
       "4        5        Berkshire Hathaway        BRK-B  8.890400e+10   347.625201   \n",
       "...    ...                       ...          ...           ...          ...   \n",
       "9907  9908                  Vodafone          VOD -7.932050e+09     7.657698   \n",
       "9908  9909    Warner Bros. Discovery          WBD -9.890000e+09     6.217594   \n",
       "9909  9910  Walgreens Boots Alliance          WBA -1.309100e+10     6.861450   \n",
       "9910  9911                    Veolia       VIE.PA -1.444810e+10    24.849801   \n",
       "9911  9912                    Maersk  MAERSK-B.CO -1.730700e+10  1275.208636   \n",
       "\n",
       "             country  \n",
       "0       Saudi Arabia  \n",
       "1      United States  \n",
       "2      United States  \n",
       "3      United States  \n",
       "4      United States  \n",
       "...              ...  \n",
       "9907  United Kingdom  \n",
       "9908   United States  \n",
       "9909   United States  \n",
       "9910          France  \n",
       "9911         Denmark  \n",
       "\n",
       "[9912 rows x 6 columns]"
      ]
     },
     "execution_count": 4,
     "metadata": {},
     "output_type": "execute_result"
    }
   ],
   "source": [
    "dataset_2=pd.read_csv(\"/kaggle/input/largest-companies-analysis-worldwide/Companies_ranked_by_Earnings.csv\")\n",
    "dataset_2"
   ]
  },
  {
   "cell_type": "code",
   "execution_count": 5,
   "id": "0d6ea456",
   "metadata": {
    "execution": {
     "iopub.execute_input": "2024-10-26T06:25:23.814629Z",
     "iopub.status.busy": "2024-10-26T06:25:23.813617Z",
     "iopub.status.idle": "2024-10-26T06:25:23.868545Z",
     "shell.execute_reply": "2024-10-26T06:25:23.867351Z"
    },
    "papermill": {
     "duration": 0.070005,
     "end_time": "2024-10-26T06:25:23.870916",
     "exception": false,
     "start_time": "2024-10-26T06:25:23.800911",
     "status": "completed"
    },
    "tags": []
   },
   "outputs": [
    {
     "data": {
      "text/html": [
       "<div>\n",
       "<style scoped>\n",
       "    .dataframe tbody tr th:only-of-type {\n",
       "        vertical-align: middle;\n",
       "    }\n",
       "\n",
       "    .dataframe tbody tr th {\n",
       "        vertical-align: top;\n",
       "    }\n",
       "\n",
       "    .dataframe thead th {\n",
       "        text-align: right;\n",
       "    }\n",
       "</style>\n",
       "<table border=\"1\" class=\"dataframe\">\n",
       "  <thead>\n",
       "    <tr style=\"text-align: right;\">\n",
       "      <th></th>\n",
       "      <th>Rank</th>\n",
       "      <th>Name</th>\n",
       "      <th>Symbol</th>\n",
       "      <th>pe_ratio_ttm</th>\n",
       "      <th>price (GBP)</th>\n",
       "      <th>country</th>\n",
       "    </tr>\n",
       "  </thead>\n",
       "  <tbody>\n",
       "    <tr>\n",
       "      <th>0</th>\n",
       "      <td>1</td>\n",
       "      <td>Imperial Petroleum</td>\n",
       "      <td>IMPP</td>\n",
       "      <td>0.109943</td>\n",
       "      <td>3.108797</td>\n",
       "      <td>Greece</td>\n",
       "    </tr>\n",
       "    <tr>\n",
       "      <th>1</th>\n",
       "      <td>2</td>\n",
       "      <td>Vertex Energy</td>\n",
       "      <td>VTNR</td>\n",
       "      <td>0.188889</td>\n",
       "      <td>0.092197</td>\n",
       "      <td>United States</td>\n",
       "    </tr>\n",
       "    <tr>\n",
       "      <th>2</th>\n",
       "      <td>3</td>\n",
       "      <td>Spin Master</td>\n",
       "      <td>TOY.TO</td>\n",
       "      <td>0.224758</td>\n",
       "      <td>17.414443</td>\n",
       "      <td>Canada</td>\n",
       "    </tr>\n",
       "    <tr>\n",
       "      <th>3</th>\n",
       "      <td>4</td>\n",
       "      <td>Performance Shipping</td>\n",
       "      <td>PSHG</td>\n",
       "      <td>0.225293</td>\n",
       "      <td>1.467916</td>\n",
       "      <td>Greece</td>\n",
       "    </tr>\n",
       "    <tr>\n",
       "      <th>4</th>\n",
       "      <td>5</td>\n",
       "      <td>TherapeuticsMD</td>\n",
       "      <td>TXMD</td>\n",
       "      <td>0.340956</td>\n",
       "      <td>1.280093</td>\n",
       "      <td>United States</td>\n",
       "    </tr>\n",
       "    <tr>\n",
       "      <th>...</th>\n",
       "      <td>...</td>\n",
       "      <td>...</td>\n",
       "      <td>...</td>\n",
       "      <td>...</td>\n",
       "      <td>...</td>\n",
       "      <td>...</td>\n",
       "    </tr>\n",
       "    <tr>\n",
       "      <th>9907</th>\n",
       "      <td>9908</td>\n",
       "      <td>MBX Biosciences</td>\n",
       "      <td>MBX</td>\n",
       "      <td>0.000000</td>\n",
       "      <td>18.500389</td>\n",
       "      <td>United States</td>\n",
       "    </tr>\n",
       "    <tr>\n",
       "      <th>9908</th>\n",
       "      <td>9909</td>\n",
       "      <td>Bicara Therapeutics</td>\n",
       "      <td>BCAX</td>\n",
       "      <td>-70.666700</td>\n",
       "      <td>18.896608</td>\n",
       "      <td>United States</td>\n",
       "    </tr>\n",
       "    <tr>\n",
       "      <th>9909</th>\n",
       "      <td>9910</td>\n",
       "      <td>Zensho Holdings</td>\n",
       "      <td>7550.T</td>\n",
       "      <td>275.203000</td>\n",
       "      <td>42.447877</td>\n",
       "      <td>Japan</td>\n",
       "    </tr>\n",
       "    <tr>\n",
       "      <th>9910</th>\n",
       "      <td>9911</td>\n",
       "      <td>BKV Corporation</td>\n",
       "      <td>BKV</td>\n",
       "      <td>-12.410500</td>\n",
       "      <td>13.867596</td>\n",
       "      <td>United States</td>\n",
       "    </tr>\n",
       "    <tr>\n",
       "      <th>9911</th>\n",
       "      <td>9912</td>\n",
       "      <td>BioAge Labs</td>\n",
       "      <td>BIOA</td>\n",
       "      <td>0.000000</td>\n",
       "      <td>16.679304</td>\n",
       "      <td>United States</td>\n",
       "    </tr>\n",
       "  </tbody>\n",
       "</table>\n",
       "<p>9912 rows × 6 columns</p>\n",
       "</div>"
      ],
      "text/plain": [
       "      Rank                  Name  Symbol  pe_ratio_ttm  price (GBP)  \\\n",
       "0        1    Imperial Petroleum    IMPP      0.109943     3.108797   \n",
       "1        2         Vertex Energy    VTNR      0.188889     0.092197   \n",
       "2        3           Spin Master  TOY.TO      0.224758    17.414443   \n",
       "3        4  Performance Shipping    PSHG      0.225293     1.467916   \n",
       "4        5        TherapeuticsMD    TXMD      0.340956     1.280093   \n",
       "...    ...                   ...     ...           ...          ...   \n",
       "9907  9908       MBX Biosciences     MBX      0.000000    18.500389   \n",
       "9908  9909   Bicara Therapeutics    BCAX    -70.666700    18.896608   \n",
       "9909  9910       Zensho Holdings  7550.T    275.203000    42.447877   \n",
       "9910  9911       BKV Corporation     BKV    -12.410500    13.867596   \n",
       "9911  9912           BioAge Labs    BIOA      0.000000    16.679304   \n",
       "\n",
       "            country  \n",
       "0            Greece  \n",
       "1     United States  \n",
       "2            Canada  \n",
       "3            Greece  \n",
       "4     United States  \n",
       "...             ...  \n",
       "9907  United States  \n",
       "9908  United States  \n",
       "9909          Japan  \n",
       "9910  United States  \n",
       "9911  United States  \n",
       "\n",
       "[9912 rows x 6 columns]"
      ]
     },
     "execution_count": 5,
     "metadata": {},
     "output_type": "execute_result"
    }
   ],
   "source": [
    "dataset_3=pd.read_csv(\"/kaggle/input/largest-companies-analysis-worldwide/Companies_ranked_by_P_E_ratio.csv\")\n",
    "dataset_3"
   ]
  },
  {
   "cell_type": "code",
   "execution_count": 6,
   "id": "dc0feca3",
   "metadata": {
    "execution": {
     "iopub.execute_input": "2024-10-26T06:25:23.896137Z",
     "iopub.status.busy": "2024-10-26T06:25:23.895661Z",
     "iopub.status.idle": "2024-10-26T06:25:23.951429Z",
     "shell.execute_reply": "2024-10-26T06:25:23.950281Z"
    },
    "papermill": {
     "duration": 0.071977,
     "end_time": "2024-10-26T06:25:23.954622",
     "exception": false,
     "start_time": "2024-10-26T06:25:23.882645",
     "status": "completed"
    },
    "tags": []
   },
   "outputs": [
    {
     "data": {
      "text/html": [
       "<div>\n",
       "<style scoped>\n",
       "    .dataframe tbody tr th:only-of-type {\n",
       "        vertical-align: middle;\n",
       "    }\n",
       "\n",
       "    .dataframe tbody tr th {\n",
       "        vertical-align: top;\n",
       "    }\n",
       "\n",
       "    .dataframe thead th {\n",
       "        text-align: right;\n",
       "    }\n",
       "</style>\n",
       "<table border=\"1\" class=\"dataframe\">\n",
       "  <thead>\n",
       "    <tr style=\"text-align: right;\">\n",
       "      <th></th>\n",
       "      <th>Rank</th>\n",
       "      <th>Name</th>\n",
       "      <th>Symbol</th>\n",
       "      <th>revenue_ttm</th>\n",
       "      <th>price (GBP)</th>\n",
       "      <th>country</th>\n",
       "    </tr>\n",
       "  </thead>\n",
       "  <tbody>\n",
       "    <tr>\n",
       "      <th>0</th>\n",
       "      <td>1</td>\n",
       "      <td>Walmart</td>\n",
       "      <td>WMT</td>\n",
       "      <td>665035000000</td>\n",
       "      <td>61.029186</td>\n",
       "      <td>United States</td>\n",
       "    </tr>\n",
       "    <tr>\n",
       "      <th>1</th>\n",
       "      <td>2</td>\n",
       "      <td>Amazon</td>\n",
       "      <td>AMZN</td>\n",
       "      <td>604334000000</td>\n",
       "      <td>143.454209</td>\n",
       "      <td>United States</td>\n",
       "    </tr>\n",
       "    <tr>\n",
       "      <th>2</th>\n",
       "      <td>3</td>\n",
       "      <td>Saudi Aramco</td>\n",
       "      <td>2222.SR</td>\n",
       "      <td>495354806850</td>\n",
       "      <td>5.505405</td>\n",
       "      <td>Saudi Arabia</td>\n",
       "    </tr>\n",
       "    <tr>\n",
       "      <th>3</th>\n",
       "      <td>4</td>\n",
       "      <td>Sinopec</td>\n",
       "      <td>600028.SS</td>\n",
       "      <td>435696880608</td>\n",
       "      <td>0.748295</td>\n",
       "      <td>China</td>\n",
       "    </tr>\n",
       "    <tr>\n",
       "      <th>4</th>\n",
       "      <td>5</td>\n",
       "      <td>PetroChina</td>\n",
       "      <td>601857.SS</td>\n",
       "      <td>429671599508</td>\n",
       "      <td>0.969769</td>\n",
       "      <td>China</td>\n",
       "    </tr>\n",
       "    <tr>\n",
       "      <th>...</th>\n",
       "      <td>...</td>\n",
       "      <td>...</td>\n",
       "      <td>...</td>\n",
       "      <td>...</td>\n",
       "      <td>...</td>\n",
       "      <td>...</td>\n",
       "    </tr>\n",
       "    <tr>\n",
       "      <th>9907</th>\n",
       "      <td>9908</td>\n",
       "      <td>Kinnevik</td>\n",
       "      <td>KINV-A.ST</td>\n",
       "      <td>-755524598</td>\n",
       "      <td>6.067929</td>\n",
       "      <td>Sweden</td>\n",
       "    </tr>\n",
       "    <tr>\n",
       "      <th>9908</th>\n",
       "      <td>9909</td>\n",
       "      <td>Sofina</td>\n",
       "      <td>SOF.VI</td>\n",
       "      <td>-1960650040</td>\n",
       "      <td>212.106043</td>\n",
       "      <td>Belgium</td>\n",
       "    </tr>\n",
       "    <tr>\n",
       "      <th>9909</th>\n",
       "      <td>9910</td>\n",
       "      <td>Quilter</td>\n",
       "      <td>QLT.L</td>\n",
       "      <td>-4921465842</td>\n",
       "      <td>1.331998</td>\n",
       "      <td>United Kingdom</td>\n",
       "    </tr>\n",
       "    <tr>\n",
       "      <th>9910</th>\n",
       "      <td>9911</td>\n",
       "      <td>M&amp;G plc</td>\n",
       "      <td>MNG.L</td>\n",
       "      <td>-10545825404</td>\n",
       "      <td>2.073004</td>\n",
       "      <td>United Kingdom</td>\n",
       "    </tr>\n",
       "    <tr>\n",
       "      <th>9911</th>\n",
       "      <td>9912</td>\n",
       "      <td>Phoenix Group</td>\n",
       "      <td>PHNX.L</td>\n",
       "      <td>-39227760552</td>\n",
       "      <td>5.630001</td>\n",
       "      <td>United Kingdom</td>\n",
       "    </tr>\n",
       "  </tbody>\n",
       "</table>\n",
       "<p>9912 rows × 6 columns</p>\n",
       "</div>"
      ],
      "text/plain": [
       "      Rank           Name     Symbol   revenue_ttm  price (GBP)  \\\n",
       "0        1        Walmart        WMT  665035000000    61.029186   \n",
       "1        2         Amazon       AMZN  604334000000   143.454209   \n",
       "2        3   Saudi Aramco    2222.SR  495354806850     5.505405   \n",
       "3        4        Sinopec  600028.SS  435696880608     0.748295   \n",
       "4        5     PetroChina  601857.SS  429671599508     0.969769   \n",
       "...    ...            ...        ...           ...          ...   \n",
       "9907  9908       Kinnevik  KINV-A.ST    -755524598     6.067929   \n",
       "9908  9909         Sofina     SOF.VI   -1960650040   212.106043   \n",
       "9909  9910        Quilter      QLT.L   -4921465842     1.331998   \n",
       "9910  9911        M&G plc      MNG.L  -10545825404     2.073004   \n",
       "9911  9912  Phoenix Group     PHNX.L  -39227760552     5.630001   \n",
       "\n",
       "             country  \n",
       "0      United States  \n",
       "1      United States  \n",
       "2       Saudi Arabia  \n",
       "3              China  \n",
       "4              China  \n",
       "...              ...  \n",
       "9907          Sweden  \n",
       "9908         Belgium  \n",
       "9909  United Kingdom  \n",
       "9910  United Kingdom  \n",
       "9911  United Kingdom  \n",
       "\n",
       "[9912 rows x 6 columns]"
      ]
     },
     "execution_count": 6,
     "metadata": {},
     "output_type": "execute_result"
    }
   ],
   "source": [
    "dataset_4=pd.read_csv(\"/kaggle/input/largest-companies-analysis-worldwide/Companies_ranked_by_Revenue.csv\")\n",
    "dataset_4"
   ]
  },
  {
   "cell_type": "code",
   "execution_count": 7,
   "id": "8372e6cf",
   "metadata": {
    "execution": {
     "iopub.execute_input": "2024-10-26T06:25:23.981407Z",
     "iopub.status.busy": "2024-10-26T06:25:23.980862Z",
     "iopub.status.idle": "2024-10-26T06:25:24.032729Z",
     "shell.execute_reply": "2024-10-26T06:25:24.031433Z"
    },
    "papermill": {
     "duration": 0.068057,
     "end_time": "2024-10-26T06:25:24.035592",
     "exception": false,
     "start_time": "2024-10-26T06:25:23.967535",
     "status": "completed"
    },
    "tags": []
   },
   "outputs": [
    {
     "data": {
      "text/html": [
       "<div>\n",
       "<style scoped>\n",
       "    .dataframe tbody tr th:only-of-type {\n",
       "        vertical-align: middle;\n",
       "    }\n",
       "\n",
       "    .dataframe tbody tr th {\n",
       "        vertical-align: top;\n",
       "    }\n",
       "\n",
       "    .dataframe thead th {\n",
       "        text-align: right;\n",
       "    }\n",
       "</style>\n",
       "<table border=\"1\" class=\"dataframe\">\n",
       "  <thead>\n",
       "    <tr style=\"text-align: right;\">\n",
       "      <th></th>\n",
       "      <th>Rank</th>\n",
       "      <th>Name</th>\n",
       "      <th>Symbol</th>\n",
       "      <th>marketcap</th>\n",
       "      <th>price (GBP)</th>\n",
       "      <th>country</th>\n",
       "    </tr>\n",
       "  </thead>\n",
       "  <tbody>\n",
       "    <tr>\n",
       "      <th>0</th>\n",
       "      <td>1</td>\n",
       "      <td>Apple</td>\n",
       "      <td>AAPL</td>\n",
       "      <td>2.689903e+12</td>\n",
       "      <td>176.919492</td>\n",
       "      <td>United States</td>\n",
       "    </tr>\n",
       "    <tr>\n",
       "      <th>1</th>\n",
       "      <td>2</td>\n",
       "      <td>Microsoft</td>\n",
       "      <td>MSFT</td>\n",
       "      <td>2.427170e+12</td>\n",
       "      <td>326.537958</td>\n",
       "      <td>United States</td>\n",
       "    </tr>\n",
       "    <tr>\n",
       "      <th>2</th>\n",
       "      <td>3</td>\n",
       "      <td>NVIDIA</td>\n",
       "      <td>NVDA</td>\n",
       "      <td>2.259353e+12</td>\n",
       "      <td>92.105725</td>\n",
       "      <td>United States</td>\n",
       "    </tr>\n",
       "    <tr>\n",
       "      <th>3</th>\n",
       "      <td>4</td>\n",
       "      <td>Alphabet (Google)</td>\n",
       "      <td>GOOG</td>\n",
       "      <td>1.549815e+12</td>\n",
       "      <td>126.458691</td>\n",
       "      <td>United States</td>\n",
       "    </tr>\n",
       "    <tr>\n",
       "      <th>4</th>\n",
       "      <td>5</td>\n",
       "      <td>Amazon</td>\n",
       "      <td>AMZN</td>\n",
       "      <td>1.506038e+12</td>\n",
       "      <td>143.492307</td>\n",
       "      <td>United States</td>\n",
       "    </tr>\n",
       "    <tr>\n",
       "      <th>...</th>\n",
       "      <td>...</td>\n",
       "      <td>...</td>\n",
       "      <td>...</td>\n",
       "      <td>...</td>\n",
       "      <td>...</td>\n",
       "      <td>...</td>\n",
       "    </tr>\n",
       "    <tr>\n",
       "      <th>9907</th>\n",
       "      <td>9908</td>\n",
       "      <td>Dubai Taxi Company</td>\n",
       "      <td>DTC.AE</td>\n",
       "      <td>0.000000e+00</td>\n",
       "      <td>0.000000</td>\n",
       "      <td>United Arab Emirates</td>\n",
       "    </tr>\n",
       "    <tr>\n",
       "      <th>9908</th>\n",
       "      <td>9909</td>\n",
       "      <td>Emirates Central Cooling Systems</td>\n",
       "      <td>EMPOWER.AE</td>\n",
       "      <td>0.000000e+00</td>\n",
       "      <td>0.000000</td>\n",
       "      <td>United Arab Emirates</td>\n",
       "    </tr>\n",
       "    <tr>\n",
       "      <th>9909</th>\n",
       "      <td>9910</td>\n",
       "      <td>Ajman Bank</td>\n",
       "      <td>AJMANBANK.AE</td>\n",
       "      <td>0.000000e+00</td>\n",
       "      <td>0.000000</td>\n",
       "      <td>United Arab Emirates</td>\n",
       "    </tr>\n",
       "    <tr>\n",
       "      <th>9910</th>\n",
       "      <td>9911</td>\n",
       "      <td>Al Ansari Financial Services</td>\n",
       "      <td>ALANSARI.AE</td>\n",
       "      <td>0.000000e+00</td>\n",
       "      <td>0.000000</td>\n",
       "      <td>United Arab Emirates</td>\n",
       "    </tr>\n",
       "    <tr>\n",
       "      <th>9911</th>\n",
       "      <td>9912</td>\n",
       "      <td>Watania International</td>\n",
       "      <td>WATANIA.AE</td>\n",
       "      <td>0.000000e+00</td>\n",
       "      <td>0.000000</td>\n",
       "      <td>United Arab Emirates</td>\n",
       "    </tr>\n",
       "  </tbody>\n",
       "</table>\n",
       "<p>9912 rows × 6 columns</p>\n",
       "</div>"
      ],
      "text/plain": [
       "      Rank                              Name        Symbol     marketcap  \\\n",
       "0        1                             Apple          AAPL  2.689903e+12   \n",
       "1        2                         Microsoft          MSFT  2.427170e+12   \n",
       "2        3                            NVIDIA          NVDA  2.259353e+12   \n",
       "3        4                 Alphabet (Google)          GOOG  1.549815e+12   \n",
       "4        5                            Amazon          AMZN  1.506038e+12   \n",
       "...    ...                               ...           ...           ...   \n",
       "9907  9908                Dubai Taxi Company        DTC.AE  0.000000e+00   \n",
       "9908  9909  Emirates Central Cooling Systems    EMPOWER.AE  0.000000e+00   \n",
       "9909  9910                        Ajman Bank  AJMANBANK.AE  0.000000e+00   \n",
       "9910  9911      Al Ansari Financial Services   ALANSARI.AE  0.000000e+00   \n",
       "9911  9912             Watania International    WATANIA.AE  0.000000e+00   \n",
       "\n",
       "      price (GBP)               country  \n",
       "0      176.919492         United States  \n",
       "1      326.537958         United States  \n",
       "2       92.105725         United States  \n",
       "3      126.458691         United States  \n",
       "4      143.492307         United States  \n",
       "...           ...                   ...  \n",
       "9907     0.000000  United Arab Emirates  \n",
       "9908     0.000000  United Arab Emirates  \n",
       "9909     0.000000  United Arab Emirates  \n",
       "9910     0.000000  United Arab Emirates  \n",
       "9911     0.000000  United Arab Emirates  \n",
       "\n",
       "[9912 rows x 6 columns]"
      ]
     },
     "execution_count": 7,
     "metadata": {},
     "output_type": "execute_result"
    }
   ],
   "source": [
    "dataset_5=pd.read_csv(\"/kaggle/input/largest-companies-analysis-worldwide/Companies_ranked_by_Market_Cap.csv\")\n",
    "dataset_5"
   ]
  },
  {
   "cell_type": "markdown",
   "id": "dac54b59",
   "metadata": {
    "papermill": {
     "duration": 0.011585,
     "end_time": "2024-10-26T06:25:24.059505",
     "exception": false,
     "start_time": "2024-10-26T06:25:24.047920",
     "status": "completed"
    },
    "tags": []
   },
   "source": [
    "# Data Cleaning\n"
   ]
  },
  {
   "cell_type": "code",
   "execution_count": 8,
   "id": "33e7fe9f",
   "metadata": {
    "execution": {
     "iopub.execute_input": "2024-10-26T06:25:24.085965Z",
     "iopub.status.busy": "2024-10-26T06:25:24.085025Z",
     "iopub.status.idle": "2024-10-26T06:25:24.102145Z",
     "shell.execute_reply": "2024-10-26T06:25:24.100931Z"
    },
    "papermill": {
     "duration": 0.033319,
     "end_time": "2024-10-26T06:25:24.104867",
     "exception": false,
     "start_time": "2024-10-26T06:25:24.071548",
     "status": "completed"
    },
    "tags": []
   },
   "outputs": [
    {
     "data": {
      "text/plain": [
       "Rank                  0\n",
       "Name                  0\n",
       "Symbol                1\n",
       "dividend_yield_ttm    0\n",
       "price (GBP)           0\n",
       "country               2\n",
       "dtype: int64"
      ]
     },
     "execution_count": 8,
     "metadata": {},
     "output_type": "execute_result"
    }
   ],
   "source": [
    "dataset_1.isnull().sum()"
   ]
  },
  {
   "cell_type": "code",
   "execution_count": 9,
   "id": "889a953b",
   "metadata": {
    "execution": {
     "iopub.execute_input": "2024-10-26T06:25:24.135650Z",
     "iopub.status.busy": "2024-10-26T06:25:24.135239Z",
     "iopub.status.idle": "2024-10-26T06:25:24.154431Z",
     "shell.execute_reply": "2024-10-26T06:25:24.153241Z"
    },
    "papermill": {
     "duration": 0.0349,
     "end_time": "2024-10-26T06:25:24.156715",
     "exception": false,
     "start_time": "2024-10-26T06:25:24.121815",
     "status": "completed"
    },
    "tags": []
   },
   "outputs": [
    {
     "data": {
      "text/html": [
       "<div>\n",
       "<style scoped>\n",
       "    .dataframe tbody tr th:only-of-type {\n",
       "        vertical-align: middle;\n",
       "    }\n",
       "\n",
       "    .dataframe tbody tr th {\n",
       "        vertical-align: top;\n",
       "    }\n",
       "\n",
       "    .dataframe thead th {\n",
       "        text-align: right;\n",
       "    }\n",
       "</style>\n",
       "<table border=\"1\" class=\"dataframe\">\n",
       "  <thead>\n",
       "    <tr style=\"text-align: right;\">\n",
       "      <th></th>\n",
       "      <th>Rank</th>\n",
       "      <th>Name</th>\n",
       "      <th>Symbol</th>\n",
       "      <th>dividend_yield_ttm</th>\n",
       "      <th>price (GBP)</th>\n",
       "      <th>country</th>\n",
       "    </tr>\n",
       "  </thead>\n",
       "  <tbody>\n",
       "    <tr>\n",
       "      <th>2255</th>\n",
       "      <td>2256</td>\n",
       "      <td>Bank of the Philippine Islands</td>\n",
       "      <td>BPHLY</td>\n",
       "      <td>265.417</td>\n",
       "      <td>31.659438</td>\n",
       "      <td>NaN</td>\n",
       "    </tr>\n",
       "    <tr>\n",
       "      <th>6991</th>\n",
       "      <td>6992</td>\n",
       "      <td>Ceconomy</td>\n",
       "      <td>CEC.DE</td>\n",
       "      <td>0.000</td>\n",
       "      <td>2.752649</td>\n",
       "      <td>NaN</td>\n",
       "    </tr>\n",
       "    <tr>\n",
       "      <th>7619</th>\n",
       "      <td>7620</td>\n",
       "      <td>Nano Labs</td>\n",
       "      <td>NaN</td>\n",
       "      <td>0.000</td>\n",
       "      <td>0.622598</td>\n",
       "      <td>China</td>\n",
       "    </tr>\n",
       "  </tbody>\n",
       "</table>\n",
       "</div>"
      ],
      "text/plain": [
       "      Rank                            Name  Symbol  dividend_yield_ttm  \\\n",
       "2255  2256  Bank of the Philippine Islands   BPHLY             265.417   \n",
       "6991  6992                        Ceconomy  CEC.DE               0.000   \n",
       "7619  7620                       Nano Labs     NaN               0.000   \n",
       "\n",
       "      price (GBP) country  \n",
       "2255    31.659438     NaN  \n",
       "6991     2.752649     NaN  \n",
       "7619     0.622598   China  "
      ]
     },
     "execution_count": 9,
     "metadata": {},
     "output_type": "execute_result"
    }
   ],
   "source": [
    "\n",
    "dataset_1[dataset_1[['Symbol', 'country']].isnull().any(axis=1)]\n"
   ]
  },
  {
   "cell_type": "code",
   "execution_count": 10,
   "id": "bd87226c",
   "metadata": {
    "execution": {
     "iopub.execute_input": "2024-10-26T06:25:24.184401Z",
     "iopub.status.busy": "2024-10-26T06:25:24.183856Z",
     "iopub.status.idle": "2024-10-26T06:25:24.195379Z",
     "shell.execute_reply": "2024-10-26T06:25:24.194274Z"
    },
    "papermill": {
     "duration": 0.027754,
     "end_time": "2024-10-26T06:25:24.197695",
     "exception": false,
     "start_time": "2024-10-26T06:25:24.169941",
     "status": "completed"
    },
    "tags": []
   },
   "outputs": [],
   "source": [
    "dataset_1.dropna(inplace=True)"
   ]
  },
  {
   "cell_type": "code",
   "execution_count": 11,
   "id": "08b8165d",
   "metadata": {
    "execution": {
     "iopub.execute_input": "2024-10-26T06:25:24.225720Z",
     "iopub.status.busy": "2024-10-26T06:25:24.224693Z",
     "iopub.status.idle": "2024-10-26T06:25:24.238933Z",
     "shell.execute_reply": "2024-10-26T06:25:24.237643Z"
    },
    "papermill": {
     "duration": 0.030593,
     "end_time": "2024-10-26T06:25:24.241381",
     "exception": false,
     "start_time": "2024-10-26T06:25:24.210788",
     "status": "completed"
    },
    "tags": []
   },
   "outputs": [
    {
     "data": {
      "text/plain": [
       "Rank                  0\n",
       "Name                  0\n",
       "Symbol                0\n",
       "dividend_yield_ttm    0\n",
       "price (GBP)           0\n",
       "country               0\n",
       "dtype: int64"
      ]
     },
     "execution_count": 11,
     "metadata": {},
     "output_type": "execute_result"
    }
   ],
   "source": [
    "dataset_1.isnull().sum()"
   ]
  },
  {
   "cell_type": "code",
   "execution_count": 12,
   "id": "47d0ac90",
   "metadata": {
    "execution": {
     "iopub.execute_input": "2024-10-26T06:25:24.269021Z",
     "iopub.status.busy": "2024-10-26T06:25:24.267948Z",
     "iopub.status.idle": "2024-10-26T06:25:24.291219Z",
     "shell.execute_reply": "2024-10-26T06:25:24.289784Z"
    },
    "papermill": {
     "duration": 0.040177,
     "end_time": "2024-10-26T06:25:24.293981",
     "exception": false,
     "start_time": "2024-10-26T06:25:24.253804",
     "status": "completed"
    },
    "tags": []
   },
   "outputs": [
    {
     "data": {
      "text/plain": [
       "False"
      ]
     },
     "execution_count": 12,
     "metadata": {},
     "output_type": "execute_result"
    }
   ],
   "source": [
    "# check duplicates in dataset\n",
    "dataset_1.duplicated().any()"
   ]
  },
  {
   "cell_type": "code",
   "execution_count": 13,
   "id": "b0144711",
   "metadata": {
    "execution": {
     "iopub.execute_input": "2024-10-26T06:25:24.322969Z",
     "iopub.status.busy": "2024-10-26T06:25:24.321894Z",
     "iopub.status.idle": "2024-10-26T06:25:24.331601Z",
     "shell.execute_reply": "2024-10-26T06:25:24.330304Z"
    },
    "papermill": {
     "duration": 0.026484,
     "end_time": "2024-10-26T06:25:24.334006",
     "exception": false,
     "start_time": "2024-10-26T06:25:24.307522",
     "status": "completed"
    },
    "tags": []
   },
   "outputs": [
    {
     "data": {
      "text/plain": [
       "Rank                    int64\n",
       "Name                   object\n",
       "Symbol                 object\n",
       "dividend_yield_ttm    float64\n",
       "price (GBP)           float64\n",
       "country                object\n",
       "dtype: object"
      ]
     },
     "execution_count": 13,
     "metadata": {},
     "output_type": "execute_result"
    }
   ],
   "source": [
    "dataset_1.dtypes"
   ]
  },
  {
   "cell_type": "code",
   "execution_count": 14,
   "id": "357f7ebc",
   "metadata": {
    "execution": {
     "iopub.execute_input": "2024-10-26T06:25:24.362920Z",
     "iopub.status.busy": "2024-10-26T06:25:24.361913Z",
     "iopub.status.idle": "2024-10-26T06:25:24.375413Z",
     "shell.execute_reply": "2024-10-26T06:25:24.374359Z"
    },
    "papermill": {
     "duration": 0.030718,
     "end_time": "2024-10-26T06:25:24.378053",
     "exception": false,
     "start_time": "2024-10-26T06:25:24.347335",
     "status": "completed"
    },
    "tags": []
   },
   "outputs": [
    {
     "data": {
      "text/plain": [
       "Rank            0\n",
       "Name            0\n",
       "Symbol          1\n",
       "earnings_ttm    0\n",
       "price (GBP)     0\n",
       "country         2\n",
       "dtype: int64"
      ]
     },
     "execution_count": 14,
     "metadata": {},
     "output_type": "execute_result"
    }
   ],
   "source": [
    "dataset_2.isnull().sum()"
   ]
  },
  {
   "cell_type": "code",
   "execution_count": 15,
   "id": "77e6f0ea",
   "metadata": {
    "execution": {
     "iopub.execute_input": "2024-10-26T06:25:24.409488Z",
     "iopub.status.busy": "2024-10-26T06:25:24.409072Z",
     "iopub.status.idle": "2024-10-26T06:25:24.424304Z",
     "shell.execute_reply": "2024-10-26T06:25:24.423095Z"
    },
    "papermill": {
     "duration": 0.032534,
     "end_time": "2024-10-26T06:25:24.426740",
     "exception": false,
     "start_time": "2024-10-26T06:25:24.394206",
     "status": "completed"
    },
    "tags": []
   },
   "outputs": [
    {
     "data": {
      "text/plain": [
       "Rank            0\n",
       "Name            0\n",
       "Symbol          0\n",
       "earnings_ttm    0\n",
       "price (GBP)     0\n",
       "country         0\n",
       "dtype: int64"
      ]
     },
     "execution_count": 15,
     "metadata": {},
     "output_type": "execute_result"
    }
   ],
   "source": [
    "# remove null valves\n",
    "dataset_2.dropna(inplace=True)\n",
    "dataset_2.isnull().sum()"
   ]
  },
  {
   "cell_type": "code",
   "execution_count": 16,
   "id": "225dfe38",
   "metadata": {
    "execution": {
     "iopub.execute_input": "2024-10-26T06:25:24.455920Z",
     "iopub.status.busy": "2024-10-26T06:25:24.454658Z",
     "iopub.status.idle": "2024-10-26T06:25:24.472703Z",
     "shell.execute_reply": "2024-10-26T06:25:24.471466Z"
    },
    "papermill": {
     "duration": 0.035273,
     "end_time": "2024-10-26T06:25:24.475243",
     "exception": false,
     "start_time": "2024-10-26T06:25:24.439970",
     "status": "completed"
    },
    "tags": []
   },
   "outputs": [
    {
     "data": {
      "text/plain": [
       "False"
      ]
     },
     "execution_count": 16,
     "metadata": {},
     "output_type": "execute_result"
    }
   ],
   "source": [
    "# check duplicates in dataset\n",
    "dataset_2.duplicated().any()"
   ]
  },
  {
   "cell_type": "code",
   "execution_count": 17,
   "id": "3840406b",
   "metadata": {
    "execution": {
     "iopub.execute_input": "2024-10-26T06:25:24.504167Z",
     "iopub.status.busy": "2024-10-26T06:25:24.503084Z",
     "iopub.status.idle": "2024-10-26T06:25:24.512589Z",
     "shell.execute_reply": "2024-10-26T06:25:24.511129Z"
    },
    "papermill": {
     "duration": 0.026637,
     "end_time": "2024-10-26T06:25:24.515042",
     "exception": false,
     "start_time": "2024-10-26T06:25:24.488405",
     "status": "completed"
    },
    "tags": []
   },
   "outputs": [
    {
     "data": {
      "text/plain": [
       "Rank              int64\n",
       "Name             object\n",
       "Symbol           object\n",
       "earnings_ttm    float64\n",
       "price (GBP)     float64\n",
       "country          object\n",
       "dtype: object"
      ]
     },
     "execution_count": 17,
     "metadata": {},
     "output_type": "execute_result"
    }
   ],
   "source": [
    "dataset_2.dtypes"
   ]
  },
  {
   "cell_type": "code",
   "execution_count": 18,
   "id": "780b8c4e",
   "metadata": {
    "execution": {
     "iopub.execute_input": "2024-10-26T06:25:24.544182Z",
     "iopub.status.busy": "2024-10-26T06:25:24.543134Z",
     "iopub.status.idle": "2024-10-26T06:25:24.556747Z",
     "shell.execute_reply": "2024-10-26T06:25:24.555650Z"
    },
    "papermill": {
     "duration": 0.030886,
     "end_time": "2024-10-26T06:25:24.559057",
     "exception": false,
     "start_time": "2024-10-26T06:25:24.528171",
     "status": "completed"
    },
    "tags": []
   },
   "outputs": [
    {
     "data": {
      "text/plain": [
       "Rank            0\n",
       "Name            0\n",
       "Symbol          1\n",
       "pe_ratio_ttm    0\n",
       "price (GBP)     0\n",
       "country         2\n",
       "dtype: int64"
      ]
     },
     "execution_count": 18,
     "metadata": {},
     "output_type": "execute_result"
    }
   ],
   "source": [
    "# check null values in dataset\n",
    "dataset_3.isnull().sum()"
   ]
  },
  {
   "cell_type": "code",
   "execution_count": 19,
   "id": "047c2d92",
   "metadata": {
    "execution": {
     "iopub.execute_input": "2024-10-26T06:25:24.588188Z",
     "iopub.status.busy": "2024-10-26T06:25:24.587040Z",
     "iopub.status.idle": "2024-10-26T06:25:24.604483Z",
     "shell.execute_reply": "2024-10-26T06:25:24.603304Z"
    },
    "papermill": {
     "duration": 0.034592,
     "end_time": "2024-10-26T06:25:24.606838",
     "exception": false,
     "start_time": "2024-10-26T06:25:24.572246",
     "status": "completed"
    },
    "tags": []
   },
   "outputs": [
    {
     "data": {
      "text/plain": [
       "Rank            0\n",
       "Name            0\n",
       "Symbol          0\n",
       "pe_ratio_ttm    0\n",
       "price (GBP)     0\n",
       "country         0\n",
       "dtype: int64"
      ]
     },
     "execution_count": 19,
     "metadata": {},
     "output_type": "execute_result"
    }
   ],
   "source": [
    "# remove null valves\n",
    "dataset_3.dropna(inplace=True)\n",
    "dataset_3.isnull().sum()"
   ]
  },
  {
   "cell_type": "code",
   "execution_count": 20,
   "id": "ffa6a169",
   "metadata": {
    "execution": {
     "iopub.execute_input": "2024-10-26T06:25:24.636086Z",
     "iopub.status.busy": "2024-10-26T06:25:24.635002Z",
     "iopub.status.idle": "2024-10-26T06:25:24.652577Z",
     "shell.execute_reply": "2024-10-26T06:25:24.651282Z"
    },
    "papermill": {
     "duration": 0.035008,
     "end_time": "2024-10-26T06:25:24.655271",
     "exception": false,
     "start_time": "2024-10-26T06:25:24.620263",
     "status": "completed"
    },
    "tags": []
   },
   "outputs": [
    {
     "data": {
      "text/plain": [
       "False"
      ]
     },
     "execution_count": 20,
     "metadata": {},
     "output_type": "execute_result"
    }
   ],
   "source": [
    "# check duplicates in dataset\n",
    "dataset_3.duplicated().any()"
   ]
  },
  {
   "cell_type": "code",
   "execution_count": 21,
   "id": "00a1f5d6",
   "metadata": {
    "execution": {
     "iopub.execute_input": "2024-10-26T06:25:24.687046Z",
     "iopub.status.busy": "2024-10-26T06:25:24.686502Z",
     "iopub.status.idle": "2024-10-26T06:25:24.696522Z",
     "shell.execute_reply": "2024-10-26T06:25:24.695239Z"
    },
    "papermill": {
     "duration": 0.027936,
     "end_time": "2024-10-26T06:25:24.698959",
     "exception": false,
     "start_time": "2024-10-26T06:25:24.671023",
     "status": "completed"
    },
    "tags": []
   },
   "outputs": [
    {
     "data": {
      "text/plain": [
       "Rank              int64\n",
       "Name             object\n",
       "Symbol           object\n",
       "pe_ratio_ttm    float64\n",
       "price (GBP)     float64\n",
       "country          object\n",
       "dtype: object"
      ]
     },
     "execution_count": 21,
     "metadata": {},
     "output_type": "execute_result"
    }
   ],
   "source": [
    "dataset_3.dtypes"
   ]
  },
  {
   "cell_type": "code",
   "execution_count": 22,
   "id": "93a114cb",
   "metadata": {
    "execution": {
     "iopub.execute_input": "2024-10-26T06:25:24.728460Z",
     "iopub.status.busy": "2024-10-26T06:25:24.727518Z",
     "iopub.status.idle": "2024-10-26T06:25:24.741584Z",
     "shell.execute_reply": "2024-10-26T06:25:24.740286Z"
    },
    "papermill": {
     "duration": 0.031448,
     "end_time": "2024-10-26T06:25:24.744002",
     "exception": false,
     "start_time": "2024-10-26T06:25:24.712554",
     "status": "completed"
    },
    "tags": []
   },
   "outputs": [
    {
     "data": {
      "text/plain": [
       "Rank           0\n",
       "Name           0\n",
       "Symbol         1\n",
       "revenue_ttm    0\n",
       "price (GBP)    0\n",
       "country        2\n",
       "dtype: int64"
      ]
     },
     "execution_count": 22,
     "metadata": {},
     "output_type": "execute_result"
    }
   ],
   "source": [
    "# check null values in dataset\n",
    "dataset_4.isnull().sum()"
   ]
  },
  {
   "cell_type": "code",
   "execution_count": 23,
   "id": "4dc791fa",
   "metadata": {
    "execution": {
     "iopub.execute_input": "2024-10-26T06:25:24.773957Z",
     "iopub.status.busy": "2024-10-26T06:25:24.772837Z",
     "iopub.status.idle": "2024-10-26T06:25:24.790904Z",
     "shell.execute_reply": "2024-10-26T06:25:24.789692Z"
    },
    "papermill": {
     "duration": 0.035716,
     "end_time": "2024-10-26T06:25:24.793367",
     "exception": false,
     "start_time": "2024-10-26T06:25:24.757651",
     "status": "completed"
    },
    "tags": []
   },
   "outputs": [
    {
     "data": {
      "text/plain": [
       "Rank           0\n",
       "Name           0\n",
       "Symbol         0\n",
       "revenue_ttm    0\n",
       "price (GBP)    0\n",
       "country        0\n",
       "dtype: int64"
      ]
     },
     "execution_count": 23,
     "metadata": {},
     "output_type": "execute_result"
    }
   ],
   "source": [
    "# remove null valves\n",
    "dataset_4.dropna(inplace=True)\n",
    "dataset_4.isnull().sum()"
   ]
  },
  {
   "cell_type": "code",
   "execution_count": 24,
   "id": "11be2889",
   "metadata": {
    "execution": {
     "iopub.execute_input": "2024-10-26T06:25:24.823479Z",
     "iopub.status.busy": "2024-10-26T06:25:24.822973Z",
     "iopub.status.idle": "2024-10-26T06:25:24.840485Z",
     "shell.execute_reply": "2024-10-26T06:25:24.839220Z"
    },
    "papermill": {
     "duration": 0.035534,
     "end_time": "2024-10-26T06:25:24.842917",
     "exception": false,
     "start_time": "2024-10-26T06:25:24.807383",
     "status": "completed"
    },
    "tags": []
   },
   "outputs": [
    {
     "data": {
      "text/plain": [
       "False"
      ]
     },
     "execution_count": 24,
     "metadata": {},
     "output_type": "execute_result"
    }
   ],
   "source": [
    "# check duplicates in dataset\n",
    "dataset_4.duplicated().any()"
   ]
  },
  {
   "cell_type": "code",
   "execution_count": 25,
   "id": "3ff1fa1a",
   "metadata": {
    "execution": {
     "iopub.execute_input": "2024-10-26T06:25:24.874041Z",
     "iopub.status.busy": "2024-10-26T06:25:24.872919Z",
     "iopub.status.idle": "2024-10-26T06:25:24.882579Z",
     "shell.execute_reply": "2024-10-26T06:25:24.881211Z"
    },
    "papermill": {
     "duration": 0.027622,
     "end_time": "2024-10-26T06:25:24.885246",
     "exception": false,
     "start_time": "2024-10-26T06:25:24.857624",
     "status": "completed"
    },
    "tags": []
   },
   "outputs": [
    {
     "data": {
      "text/plain": [
       "Rank             int64\n",
       "Name            object\n",
       "Symbol          object\n",
       "revenue_ttm      int64\n",
       "price (GBP)    float64\n",
       "country         object\n",
       "dtype: object"
      ]
     },
     "execution_count": 25,
     "metadata": {},
     "output_type": "execute_result"
    }
   ],
   "source": [
    "dataset_4.dtypes"
   ]
  },
  {
   "cell_type": "code",
   "execution_count": 26,
   "id": "89a6d7d0",
   "metadata": {
    "execution": {
     "iopub.execute_input": "2024-10-26T06:25:24.919895Z",
     "iopub.status.busy": "2024-10-26T06:25:24.918752Z",
     "iopub.status.idle": "2024-10-26T06:25:24.932556Z",
     "shell.execute_reply": "2024-10-26T06:25:24.931208Z"
    },
    "papermill": {
     "duration": 0.032075,
     "end_time": "2024-10-26T06:25:24.935182",
     "exception": false,
     "start_time": "2024-10-26T06:25:24.903107",
     "status": "completed"
    },
    "tags": []
   },
   "outputs": [
    {
     "data": {
      "text/plain": [
       "Rank           0\n",
       "Name           0\n",
       "Symbol         1\n",
       "marketcap      0\n",
       "price (GBP)    0\n",
       "country        2\n",
       "dtype: int64"
      ]
     },
     "execution_count": 26,
     "metadata": {},
     "output_type": "execute_result"
    }
   ],
   "source": [
    "# check null values in dataset\n",
    "dataset_5.isnull().sum()"
   ]
  },
  {
   "cell_type": "code",
   "execution_count": 27,
   "id": "85fc1233",
   "metadata": {
    "execution": {
     "iopub.execute_input": "2024-10-26T06:25:24.966576Z",
     "iopub.status.busy": "2024-10-26T06:25:24.966071Z",
     "iopub.status.idle": "2024-10-26T06:25:24.982583Z",
     "shell.execute_reply": "2024-10-26T06:25:24.981451Z"
    },
    "papermill": {
     "duration": 0.035572,
     "end_time": "2024-10-26T06:25:24.985388",
     "exception": false,
     "start_time": "2024-10-26T06:25:24.949816",
     "status": "completed"
    },
    "tags": []
   },
   "outputs": [
    {
     "data": {
      "text/plain": [
       "Rank           0\n",
       "Name           0\n",
       "Symbol         0\n",
       "marketcap      0\n",
       "price (GBP)    0\n",
       "country        0\n",
       "dtype: int64"
      ]
     },
     "execution_count": 27,
     "metadata": {},
     "output_type": "execute_result"
    }
   ],
   "source": [
    "# remove null valves\n",
    "dataset_5.dropna(inplace=True)\n",
    "dataset_5.isnull().sum()"
   ]
  },
  {
   "cell_type": "code",
   "execution_count": 28,
   "id": "3f7fbab2",
   "metadata": {
    "execution": {
     "iopub.execute_input": "2024-10-26T06:25:25.020657Z",
     "iopub.status.busy": "2024-10-26T06:25:25.020159Z",
     "iopub.status.idle": "2024-10-26T06:25:25.038550Z",
     "shell.execute_reply": "2024-10-26T06:25:25.037217Z"
    },
    "papermill": {
     "duration": 0.036934,
     "end_time": "2024-10-26T06:25:25.041134",
     "exception": false,
     "start_time": "2024-10-26T06:25:25.004200",
     "status": "completed"
    },
    "tags": []
   },
   "outputs": [
    {
     "data": {
      "text/plain": [
       "False"
      ]
     },
     "execution_count": 28,
     "metadata": {},
     "output_type": "execute_result"
    }
   ],
   "source": [
    "# check duplicates in dataset\n",
    "dataset_5.duplicated().any()"
   ]
  },
  {
   "cell_type": "code",
   "execution_count": 29,
   "id": "a792018d",
   "metadata": {
    "execution": {
     "iopub.execute_input": "2024-10-26T06:25:25.072184Z",
     "iopub.status.busy": "2024-10-26T06:25:25.071693Z",
     "iopub.status.idle": "2024-10-26T06:25:25.080244Z",
     "shell.execute_reply": "2024-10-26T06:25:25.079165Z"
    },
    "papermill": {
     "duration": 0.026847,
     "end_time": "2024-10-26T06:25:25.082584",
     "exception": false,
     "start_time": "2024-10-26T06:25:25.055737",
     "status": "completed"
    },
    "tags": []
   },
   "outputs": [
    {
     "data": {
      "text/plain": [
       "Rank             int64\n",
       "Name            object\n",
       "Symbol          object\n",
       "marketcap      float64\n",
       "price (GBP)    float64\n",
       "country         object\n",
       "dtype: object"
      ]
     },
     "execution_count": 29,
     "metadata": {},
     "output_type": "execute_result"
    }
   ],
   "source": [
    "dataset_5.dtypes"
   ]
  },
  {
   "cell_type": "markdown",
   "id": "87ad550f",
   "metadata": {
    "papermill": {
     "duration": 0.014286,
     "end_time": "2024-10-26T06:25:25.111413",
     "exception": false,
     "start_time": "2024-10-26T06:25:25.097127",
     "status": "completed"
    },
    "tags": []
   },
   "source": [
    "#  Identify the top companies by Revenue and Earnings to understand which companies lead in volume and profitability."
   ]
  },
  {
   "cell_type": "code",
   "execution_count": 30,
   "id": "b28ee4f1",
   "metadata": {
    "execution": {
     "iopub.execute_input": "2024-10-26T06:25:25.142693Z",
     "iopub.status.busy": "2024-10-26T06:25:25.142258Z",
     "iopub.status.idle": "2024-10-26T06:25:25.172322Z",
     "shell.execute_reply": "2024-10-26T06:25:25.171057Z"
    },
    "papermill": {
     "duration": 0.048289,
     "end_time": "2024-10-26T06:25:25.174596",
     "exception": false,
     "start_time": "2024-10-26T06:25:25.126307",
     "status": "completed"
    },
    "tags": []
   },
   "outputs": [
    {
     "data": {
      "text/html": [
       "<div>\n",
       "<style scoped>\n",
       "    .dataframe tbody tr th:only-of-type {\n",
       "        vertical-align: middle;\n",
       "    }\n",
       "\n",
       "    .dataframe tbody tr th {\n",
       "        vertical-align: top;\n",
       "    }\n",
       "\n",
       "    .dataframe thead th {\n",
       "        text-align: right;\n",
       "    }\n",
       "</style>\n",
       "<table border=\"1\" class=\"dataframe\">\n",
       "  <thead>\n",
       "    <tr style=\"text-align: right;\">\n",
       "      <th></th>\n",
       "      <th>Rank</th>\n",
       "      <th>Name_x</th>\n",
       "      <th>Symbol_x</th>\n",
       "      <th>earnings_ttm</th>\n",
       "      <th>price (GBP)_x</th>\n",
       "      <th>country_x</th>\n",
       "      <th>Name_y</th>\n",
       "      <th>Symbol_y</th>\n",
       "      <th>revenue_ttm</th>\n",
       "      <th>price (GBP)_y</th>\n",
       "      <th>country_y</th>\n",
       "    </tr>\n",
       "  </thead>\n",
       "  <tbody>\n",
       "    <tr>\n",
       "      <th>0</th>\n",
       "      <td>1</td>\n",
       "      <td>Saudi Aramco</td>\n",
       "      <td>2222.SR</td>\n",
       "      <td>2.283780e+11</td>\n",
       "      <td>5.505405</td>\n",
       "      <td>Saudi Arabia</td>\n",
       "      <td>Walmart</td>\n",
       "      <td>WMT</td>\n",
       "      <td>665035000000</td>\n",
       "      <td>61.029186</td>\n",
       "      <td>United States</td>\n",
       "    </tr>\n",
       "    <tr>\n",
       "      <th>1</th>\n",
       "      <td>2</td>\n",
       "      <td>Apple</td>\n",
       "      <td>AAPL</td>\n",
       "      <td>1.216250e+11</td>\n",
       "      <td>176.734336</td>\n",
       "      <td>United States</td>\n",
       "      <td>Amazon</td>\n",
       "      <td>AMZN</td>\n",
       "      <td>604334000000</td>\n",
       "      <td>143.454209</td>\n",
       "      <td>United States</td>\n",
       "    </tr>\n",
       "    <tr>\n",
       "      <th>2</th>\n",
       "      <td>3</td>\n",
       "      <td>Microsoft</td>\n",
       "      <td>MSFT</td>\n",
       "      <td>1.077870e+11</td>\n",
       "      <td>326.461762</td>\n",
       "      <td>United States</td>\n",
       "      <td>Saudi Aramco</td>\n",
       "      <td>2222.SR</td>\n",
       "      <td>495354806850</td>\n",
       "      <td>5.505405</td>\n",
       "      <td>Saudi Arabia</td>\n",
       "    </tr>\n",
       "    <tr>\n",
       "      <th>3</th>\n",
       "      <td>4</td>\n",
       "      <td>Alphabet (Google)</td>\n",
       "      <td>GOOG</td>\n",
       "      <td>1.018210e+11</td>\n",
       "      <td>126.279631</td>\n",
       "      <td>United States</td>\n",
       "      <td>Sinopec</td>\n",
       "      <td>600028.SS</td>\n",
       "      <td>435696880608</td>\n",
       "      <td>0.748295</td>\n",
       "      <td>China</td>\n",
       "    </tr>\n",
       "    <tr>\n",
       "      <th>4</th>\n",
       "      <td>5</td>\n",
       "      <td>Berkshire Hathaway</td>\n",
       "      <td>BRK-B</td>\n",
       "      <td>8.890400e+10</td>\n",
       "      <td>347.625201</td>\n",
       "      <td>United States</td>\n",
       "      <td>PetroChina</td>\n",
       "      <td>601857.SS</td>\n",
       "      <td>429671599508</td>\n",
       "      <td>0.969769</td>\n",
       "      <td>China</td>\n",
       "    </tr>\n",
       "    <tr>\n",
       "      <th>...</th>\n",
       "      <td>...</td>\n",
       "      <td>...</td>\n",
       "      <td>...</td>\n",
       "      <td>...</td>\n",
       "      <td>...</td>\n",
       "      <td>...</td>\n",
       "      <td>...</td>\n",
       "      <td>...</td>\n",
       "      <td>...</td>\n",
       "      <td>...</td>\n",
       "      <td>...</td>\n",
       "    </tr>\n",
       "    <tr>\n",
       "      <th>9901</th>\n",
       "      <td>9908</td>\n",
       "      <td>Vodafone</td>\n",
       "      <td>VOD</td>\n",
       "      <td>-7.932050e+09</td>\n",
       "      <td>7.657698</td>\n",
       "      <td>United Kingdom</td>\n",
       "      <td>Kinnevik</td>\n",
       "      <td>KINV-A.ST</td>\n",
       "      <td>-755524598</td>\n",
       "      <td>6.067929</td>\n",
       "      <td>Sweden</td>\n",
       "    </tr>\n",
       "    <tr>\n",
       "      <th>9902</th>\n",
       "      <td>9909</td>\n",
       "      <td>Warner Bros. Discovery</td>\n",
       "      <td>WBD</td>\n",
       "      <td>-9.890000e+09</td>\n",
       "      <td>6.217594</td>\n",
       "      <td>United States</td>\n",
       "      <td>Sofina</td>\n",
       "      <td>SOF.VI</td>\n",
       "      <td>-1960650040</td>\n",
       "      <td>212.106043</td>\n",
       "      <td>Belgium</td>\n",
       "    </tr>\n",
       "    <tr>\n",
       "      <th>9903</th>\n",
       "      <td>9910</td>\n",
       "      <td>Walgreens Boots Alliance</td>\n",
       "      <td>WBA</td>\n",
       "      <td>-1.309100e+10</td>\n",
       "      <td>6.861450</td>\n",
       "      <td>United States</td>\n",
       "      <td>Quilter</td>\n",
       "      <td>QLT.L</td>\n",
       "      <td>-4921465842</td>\n",
       "      <td>1.331998</td>\n",
       "      <td>United Kingdom</td>\n",
       "    </tr>\n",
       "    <tr>\n",
       "      <th>9904</th>\n",
       "      <td>9911</td>\n",
       "      <td>Veolia</td>\n",
       "      <td>VIE.PA</td>\n",
       "      <td>-1.444810e+10</td>\n",
       "      <td>24.849801</td>\n",
       "      <td>France</td>\n",
       "      <td>M&amp;G plc</td>\n",
       "      <td>MNG.L</td>\n",
       "      <td>-10545825404</td>\n",
       "      <td>2.073004</td>\n",
       "      <td>United Kingdom</td>\n",
       "    </tr>\n",
       "    <tr>\n",
       "      <th>9905</th>\n",
       "      <td>9912</td>\n",
       "      <td>Maersk</td>\n",
       "      <td>MAERSK-B.CO</td>\n",
       "      <td>-1.730700e+10</td>\n",
       "      <td>1275.208636</td>\n",
       "      <td>Denmark</td>\n",
       "      <td>Phoenix Group</td>\n",
       "      <td>PHNX.L</td>\n",
       "      <td>-39227760552</td>\n",
       "      <td>5.630001</td>\n",
       "      <td>United Kingdom</td>\n",
       "    </tr>\n",
       "  </tbody>\n",
       "</table>\n",
       "<p>9906 rows × 11 columns</p>\n",
       "</div>"
      ],
      "text/plain": [
       "      Rank                    Name_x     Symbol_x  earnings_ttm  \\\n",
       "0        1              Saudi Aramco      2222.SR  2.283780e+11   \n",
       "1        2                     Apple         AAPL  1.216250e+11   \n",
       "2        3                 Microsoft         MSFT  1.077870e+11   \n",
       "3        4         Alphabet (Google)         GOOG  1.018210e+11   \n",
       "4        5        Berkshire Hathaway        BRK-B  8.890400e+10   \n",
       "...    ...                       ...          ...           ...   \n",
       "9901  9908                  Vodafone          VOD -7.932050e+09   \n",
       "9902  9909    Warner Bros. Discovery          WBD -9.890000e+09   \n",
       "9903  9910  Walgreens Boots Alliance          WBA -1.309100e+10   \n",
       "9904  9911                    Veolia       VIE.PA -1.444810e+10   \n",
       "9905  9912                    Maersk  MAERSK-B.CO -1.730700e+10   \n",
       "\n",
       "      price (GBP)_x       country_x         Name_y   Symbol_y   revenue_ttm  \\\n",
       "0          5.505405    Saudi Arabia        Walmart        WMT  665035000000   \n",
       "1        176.734336   United States         Amazon       AMZN  604334000000   \n",
       "2        326.461762   United States   Saudi Aramco    2222.SR  495354806850   \n",
       "3        126.279631   United States        Sinopec  600028.SS  435696880608   \n",
       "4        347.625201   United States     PetroChina  601857.SS  429671599508   \n",
       "...             ...             ...            ...        ...           ...   \n",
       "9901       7.657698  United Kingdom       Kinnevik  KINV-A.ST    -755524598   \n",
       "9902       6.217594   United States         Sofina     SOF.VI   -1960650040   \n",
       "9903       6.861450   United States        Quilter      QLT.L   -4921465842   \n",
       "9904      24.849801          France        M&G plc      MNG.L  -10545825404   \n",
       "9905    1275.208636         Denmark  Phoenix Group     PHNX.L  -39227760552   \n",
       "\n",
       "      price (GBP)_y       country_y  \n",
       "0         61.029186   United States  \n",
       "1        143.454209   United States  \n",
       "2          5.505405    Saudi Arabia  \n",
       "3          0.748295           China  \n",
       "4          0.969769           China  \n",
       "...             ...             ...  \n",
       "9901       6.067929          Sweden  \n",
       "9902     212.106043         Belgium  \n",
       "9903       1.331998  United Kingdom  \n",
       "9904       2.073004  United Kingdom  \n",
       "9905       5.630001  United Kingdom  \n",
       "\n",
       "[9906 rows x 11 columns]"
      ]
     },
     "execution_count": 30,
     "metadata": {},
     "output_type": "execute_result"
    }
   ],
   "source": [
    "# merging datasets\n",
    "merge_dataset=pd.merge(dataset_2,dataset_4,how=\"inner\",on=\"Rank\")\n",
    "merge_dataset"
   ]
  },
  {
   "cell_type": "code",
   "execution_count": 31,
   "id": "10d8ef52",
   "metadata": {
    "execution": {
     "iopub.execute_input": "2024-10-26T06:25:25.207739Z",
     "iopub.status.busy": "2024-10-26T06:25:25.206666Z",
     "iopub.status.idle": "2024-10-26T06:25:25.578652Z",
     "shell.execute_reply": "2024-10-26T06:25:25.577405Z"
    },
    "papermill": {
     "duration": 0.391119,
     "end_time": "2024-10-26T06:25:25.581104",
     "exception": false,
     "start_time": "2024-10-26T06:25:25.189985",
     "status": "completed"
    },
    "tags": []
   },
   "outputs": [
    {
     "data": {
      "text/plain": [
       "<Axes: title={'center': 'Revenue vs Earnings'}, xlabel='revenue_ttm', ylabel='earnings_ttm'>"
      ]
     },
     "execution_count": 31,
     "metadata": {},
     "output_type": "execute_result"
    },
    {
     "data": {
      "image/png": "[encoded data removed]",
      "text/plain": [
       "<Figure size 640x480 with 1 Axes>"
      ]
     },
     "metadata": {},
     "output_type": "display_data"
    }
   ],
   "source": [
    "merge_dataset.plot.scatter(x='revenue_ttm',y='earnings_ttm',title='Revenue vs Earnings')"
   ]
  },
  {
   "cell_type": "markdown",
   "id": "ae5bcbcc",
   "metadata": {
    "papermill": {
     "duration": 0.014953,
     "end_time": "2024-10-26T06:25:25.611585",
     "exception": false,
     "start_time": "2024-10-26T06:25:25.596632",
     "status": "completed"
    },
    "tags": []
   },
   "source": [
    "#  Rank companies by Market Capitalization to identify the largest players in the stock market."
   ]
  },
  {
   "cell_type": "code",
   "execution_count": 32,
   "id": "80ad9f79",
   "metadata": {
    "execution": {
     "iopub.execute_input": "2024-10-26T06:25:25.644349Z",
     "iopub.status.busy": "2024-10-26T06:25:25.643913Z",
     "iopub.status.idle": "2024-10-26T06:25:25.661933Z",
     "shell.execute_reply": "2024-10-26T06:25:25.660504Z"
    },
    "papermill": {
     "duration": 0.03824,
     "end_time": "2024-10-26T06:25:25.665342",
     "exception": false,
     "start_time": "2024-10-26T06:25:25.627102",
     "status": "completed"
    },
    "tags": []
   },
   "outputs": [
    {
     "name": "stdout",
     "output_type": "stream",
     "text": [
      "Top 10 Companies by Market Cap:\n",
      "    Rank                       Name   Symbol     marketcap  price (GBP)  \\\n",
      "0     1                      Apple     AAPL  2.689903e+12   176.919492   \n",
      "1     2                  Microsoft     MSFT  2.427170e+12   326.537958   \n",
      "2     3                     NVIDIA     NVDA  2.259353e+12    92.105725   \n",
      "3     4          Alphabet (Google)     GOOG  1.549815e+12   126.458691   \n",
      "4     5                     Amazon     AMZN  1.506038e+12   143.492307   \n",
      "5     6               Saudi Aramco  2222.SR  1.348543e+12     5.505405   \n",
      "6     7  Meta Platforms (Facebook)     META  1.095756e+12   433.136162   \n",
      "7     8         Berkshire Hathaway    BRK-B  7.492296e+11   347.667109   \n",
      "8     9                       TSMC      TSM  6.952419e+11   134.059242   \n",
      "9    10                      Tesla     TSLA  6.399479e+11   200.319284   \n",
      "\n",
      "         country  \n",
      "0  United States  \n",
      "1  United States  \n",
      "2  United States  \n",
      "3  United States  \n",
      "4  United States  \n",
      "5   Saudi Arabia  \n",
      "6  United States  \n",
      "7  United States  \n",
      "8         Taiwan  \n",
      "9  United States  \n",
      "\n",
      "Bottom 10 Companies by Market Cap:\n",
      "       Rank                       Name      Symbol  marketcap  price (GBP)  \\\n",
      "9911  9912      Watania International  WATANIA.AE        0.0     0.000000   \n",
      "9891  9892                     Yandex     YNDX.ME        0.0     0.000000   \n",
      "9892  9893                       Qiwi     QIWI.ME        0.0     1.950618   \n",
      "9893  9894                    Rosseti     RSTI.ME        0.0     0.000000   \n",
      "9894  9895            X5 Retail Group     FIVE.ME        0.0    24.702743   \n",
      "9895  9896  Pollux Properti Indonesia     POLL.JK        0.0     0.005265   \n",
      "9896  9897   Samsung Heavy Industries   010145.KS        0.0     3.786941   \n",
      "9897  9898               Tunas Ridean     TURI.JK        0.0     0.076196   \n",
      "9898  9899                       Ozon     OZON.ME        0.0    34.646321   \n",
      "9899  9900        Al Dhafra Insurance   DHAFRA.AE        0.0     0.000000   \n",
      "\n",
      "                   country  \n",
      "9911  United Arab Emirates  \n",
      "9891           Netherlands  \n",
      "9892                Cyprus  \n",
      "9893                Russia  \n",
      "9894           Netherlands  \n",
      "9895             Indonesia  \n",
      "9896           South Korea  \n",
      "9897             Indonesia  \n",
      "9898         United States  \n",
      "9899  United Arab Emirates  \n"
     ]
    }
   ],
   "source": [
    "\n",
    "top_companies = dataset_5.sort_values(by='marketcap', ascending=False).head(10)\n",
    "bottom_companies = dataset_5.sort_values(by='marketcap').head(10)\n",
    "print(\"Top 10 Companies by Market Cap:\\n\", top_companies)\n",
    "print(\"\\nBottom 10 Companies by Market Cap:\\n\", bottom_companies)\n"
   ]
  },
  {
   "cell_type": "code",
   "execution_count": 33,
   "id": "7753b018",
   "metadata": {
    "execution": {
     "iopub.execute_input": "2024-10-26T06:25:25.699218Z",
     "iopub.status.busy": "2024-10-26T06:25:25.698590Z",
     "iopub.status.idle": "2024-10-26T06:25:25.715862Z",
     "shell.execute_reply": "2024-10-26T06:25:25.714672Z"
    },
    "papermill": {
     "duration": 0.037186,
     "end_time": "2024-10-26T06:25:25.718573",
     "exception": false,
     "start_time": "2024-10-26T06:25:25.681387",
     "status": "completed"
    },
    "tags": []
   },
   "outputs": [
    {
     "data": {
      "text/plain": [
       "country\n",
       "United States    4.467134e+13\n",
       "Name: marketcap, dtype: float64"
      ]
     },
     "execution_count": 33,
     "metadata": {},
     "output_type": "execute_result"
    }
   ],
   "source": [
    "#  Market Cap by Country Analysis\n",
    "market_cap_country=dataset_5.groupby('country')['marketcap'].sum().sort_values(ascending=False).nlargest(1)\n",
    "market_cap_country"
   ]
  },
  {
   "cell_type": "markdown",
   "id": "62fc33af",
   "metadata": {
    "papermill": {
     "duration": 0.0156,
     "end_time": "2024-10-26T06:25:25.750114",
     "exception": false,
     "start_time": "2024-10-26T06:25:25.734514",
     "status": "completed"
    },
    "tags": []
   },
   "source": [
    "# Compare Market Cap with the Price-to-Earnings (P/E) Ratio to analyze growth potential"
   ]
  },
  {
   "cell_type": "code",
   "execution_count": 34,
   "id": "063fc6f3",
   "metadata": {
    "execution": {
     "iopub.execute_input": "2024-10-26T06:25:25.784257Z",
     "iopub.status.busy": "2024-10-26T06:25:25.783010Z",
     "iopub.status.idle": "2024-10-26T06:25:25.809811Z",
     "shell.execute_reply": "2024-10-26T06:25:25.808718Z"
    },
    "papermill": {
     "duration": 0.046688,
     "end_time": "2024-10-26T06:25:25.812426",
     "exception": false,
     "start_time": "2024-10-26T06:25:25.765738",
     "status": "completed"
    },
    "tags": []
   },
   "outputs": [
    {
     "data": {
      "text/html": [
       "<div>\n",
       "<style scoped>\n",
       "    .dataframe tbody tr th:only-of-type {\n",
       "        vertical-align: middle;\n",
       "    }\n",
       "\n",
       "    .dataframe tbody tr th {\n",
       "        vertical-align: top;\n",
       "    }\n",
       "\n",
       "    .dataframe thead th {\n",
       "        text-align: right;\n",
       "    }\n",
       "</style>\n",
       "<table border=\"1\" class=\"dataframe\">\n",
       "  <thead>\n",
       "    <tr style=\"text-align: right;\">\n",
       "      <th></th>\n",
       "      <th>Rank</th>\n",
       "      <th>Name_x</th>\n",
       "      <th>Symbol_x</th>\n",
       "      <th>marketcap</th>\n",
       "      <th>price (GBP)_x</th>\n",
       "      <th>country_x</th>\n",
       "      <th>Name_y</th>\n",
       "      <th>Symbol_y</th>\n",
       "      <th>pe_ratio_ttm</th>\n",
       "      <th>price (GBP)_y</th>\n",
       "      <th>country_y</th>\n",
       "    </tr>\n",
       "  </thead>\n",
       "  <tbody>\n",
       "    <tr>\n",
       "      <th>0</th>\n",
       "      <td>1</td>\n",
       "      <td>Apple</td>\n",
       "      <td>AAPL</td>\n",
       "      <td>2.689903e+12</td>\n",
       "      <td>176.919492</td>\n",
       "      <td>United States</td>\n",
       "      <td>Imperial Petroleum</td>\n",
       "      <td>IMPP</td>\n",
       "      <td>0.109943</td>\n",
       "      <td>3.108797</td>\n",
       "      <td>Greece</td>\n",
       "    </tr>\n",
       "    <tr>\n",
       "      <th>1</th>\n",
       "      <td>2</td>\n",
       "      <td>Microsoft</td>\n",
       "      <td>MSFT</td>\n",
       "      <td>2.427170e+12</td>\n",
       "      <td>326.537958</td>\n",
       "      <td>United States</td>\n",
       "      <td>Vertex Energy</td>\n",
       "      <td>VTNR</td>\n",
       "      <td>0.188889</td>\n",
       "      <td>0.092197</td>\n",
       "      <td>United States</td>\n",
       "    </tr>\n",
       "    <tr>\n",
       "      <th>2</th>\n",
       "      <td>3</td>\n",
       "      <td>NVIDIA</td>\n",
       "      <td>NVDA</td>\n",
       "      <td>2.259353e+12</td>\n",
       "      <td>92.105725</td>\n",
       "      <td>United States</td>\n",
       "      <td>Spin Master</td>\n",
       "      <td>TOY.TO</td>\n",
       "      <td>0.224758</td>\n",
       "      <td>17.414443</td>\n",
       "      <td>Canada</td>\n",
       "    </tr>\n",
       "    <tr>\n",
       "      <th>3</th>\n",
       "      <td>4</td>\n",
       "      <td>Alphabet (Google)</td>\n",
       "      <td>GOOG</td>\n",
       "      <td>1.549815e+12</td>\n",
       "      <td>126.458691</td>\n",
       "      <td>United States</td>\n",
       "      <td>Performance Shipping</td>\n",
       "      <td>PSHG</td>\n",
       "      <td>0.225293</td>\n",
       "      <td>1.467916</td>\n",
       "      <td>Greece</td>\n",
       "    </tr>\n",
       "    <tr>\n",
       "      <th>4</th>\n",
       "      <td>5</td>\n",
       "      <td>Amazon</td>\n",
       "      <td>AMZN</td>\n",
       "      <td>1.506038e+12</td>\n",
       "      <td>143.492307</td>\n",
       "      <td>United States</td>\n",
       "      <td>TherapeuticsMD</td>\n",
       "      <td>TXMD</td>\n",
       "      <td>0.340956</td>\n",
       "      <td>1.280093</td>\n",
       "      <td>United States</td>\n",
       "    </tr>\n",
       "    <tr>\n",
       "      <th>...</th>\n",
       "      <td>...</td>\n",
       "      <td>...</td>\n",
       "      <td>...</td>\n",
       "      <td>...</td>\n",
       "      <td>...</td>\n",
       "      <td>...</td>\n",
       "      <td>...</td>\n",
       "      <td>...</td>\n",
       "      <td>...</td>\n",
       "      <td>...</td>\n",
       "      <td>...</td>\n",
       "    </tr>\n",
       "    <tr>\n",
       "      <th>9901</th>\n",
       "      <td>9908</td>\n",
       "      <td>Dubai Taxi Company</td>\n",
       "      <td>DTC.AE</td>\n",
       "      <td>0.000000e+00</td>\n",
       "      <td>0.000000</td>\n",
       "      <td>United Arab Emirates</td>\n",
       "      <td>MBX Biosciences</td>\n",
       "      <td>MBX</td>\n",
       "      <td>0.000000</td>\n",
       "      <td>18.500389</td>\n",
       "      <td>United States</td>\n",
       "    </tr>\n",
       "    <tr>\n",
       "      <th>9902</th>\n",
       "      <td>9909</td>\n",
       "      <td>Emirates Central Cooling Systems</td>\n",
       "      <td>EMPOWER.AE</td>\n",
       "      <td>0.000000e+00</td>\n",
       "      <td>0.000000</td>\n",
       "      <td>United Arab Emirates</td>\n",
       "      <td>Bicara Therapeutics</td>\n",
       "      <td>BCAX</td>\n",
       "      <td>-70.666700</td>\n",
       "      <td>18.896608</td>\n",
       "      <td>United States</td>\n",
       "    </tr>\n",
       "    <tr>\n",
       "      <th>9903</th>\n",
       "      <td>9910</td>\n",
       "      <td>Ajman Bank</td>\n",
       "      <td>AJMANBANK.AE</td>\n",
       "      <td>0.000000e+00</td>\n",
       "      <td>0.000000</td>\n",
       "      <td>United Arab Emirates</td>\n",
       "      <td>Zensho Holdings</td>\n",
       "      <td>7550.T</td>\n",
       "      <td>275.203000</td>\n",
       "      <td>42.447877</td>\n",
       "      <td>Japan</td>\n",
       "    </tr>\n",
       "    <tr>\n",
       "      <th>9904</th>\n",
       "      <td>9911</td>\n",
       "      <td>Al Ansari Financial Services</td>\n",
       "      <td>ALANSARI.AE</td>\n",
       "      <td>0.000000e+00</td>\n",
       "      <td>0.000000</td>\n",
       "      <td>United Arab Emirates</td>\n",
       "      <td>BKV Corporation</td>\n",
       "      <td>BKV</td>\n",
       "      <td>-12.410500</td>\n",
       "      <td>13.867596</td>\n",
       "      <td>United States</td>\n",
       "    </tr>\n",
       "    <tr>\n",
       "      <th>9905</th>\n",
       "      <td>9912</td>\n",
       "      <td>Watania International</td>\n",
       "      <td>WATANIA.AE</td>\n",
       "      <td>0.000000e+00</td>\n",
       "      <td>0.000000</td>\n",
       "      <td>United Arab Emirates</td>\n",
       "      <td>BioAge Labs</td>\n",
       "      <td>BIOA</td>\n",
       "      <td>0.000000</td>\n",
       "      <td>16.679304</td>\n",
       "      <td>United States</td>\n",
       "    </tr>\n",
       "  </tbody>\n",
       "</table>\n",
       "<p>9906 rows × 11 columns</p>\n",
       "</div>"
      ],
      "text/plain": [
       "      Rank                            Name_x      Symbol_x     marketcap  \\\n",
       "0        1                             Apple          AAPL  2.689903e+12   \n",
       "1        2                         Microsoft          MSFT  2.427170e+12   \n",
       "2        3                            NVIDIA          NVDA  2.259353e+12   \n",
       "3        4                 Alphabet (Google)          GOOG  1.549815e+12   \n",
       "4        5                            Amazon          AMZN  1.506038e+12   \n",
       "...    ...                               ...           ...           ...   \n",
       "9901  9908                Dubai Taxi Company        DTC.AE  0.000000e+00   \n",
       "9902  9909  Emirates Central Cooling Systems    EMPOWER.AE  0.000000e+00   \n",
       "9903  9910                        Ajman Bank  AJMANBANK.AE  0.000000e+00   \n",
       "9904  9911      Al Ansari Financial Services   ALANSARI.AE  0.000000e+00   \n",
       "9905  9912             Watania International    WATANIA.AE  0.000000e+00   \n",
       "\n",
       "      price (GBP)_x             country_x                Name_y Symbol_y  \\\n",
       "0        176.919492         United States    Imperial Petroleum     IMPP   \n",
       "1        326.537958         United States         Vertex Energy     VTNR   \n",
       "2         92.105725         United States           Spin Master   TOY.TO   \n",
       "3        126.458691         United States  Performance Shipping     PSHG   \n",
       "4        143.492307         United States        TherapeuticsMD     TXMD   \n",
       "...             ...                   ...                   ...      ...   \n",
       "9901       0.000000  United Arab Emirates       MBX Biosciences      MBX   \n",
       "9902       0.000000  United Arab Emirates   Bicara Therapeutics     BCAX   \n",
       "9903       0.000000  United Arab Emirates       Zensho Holdings   7550.T   \n",
       "9904       0.000000  United Arab Emirates       BKV Corporation      BKV   \n",
       "9905       0.000000  United Arab Emirates           BioAge Labs     BIOA   \n",
       "\n",
       "      pe_ratio_ttm  price (GBP)_y      country_y  \n",
       "0         0.109943       3.108797         Greece  \n",
       "1         0.188889       0.092197  United States  \n",
       "2         0.224758      17.414443         Canada  \n",
       "3         0.225293       1.467916         Greece  \n",
       "4         0.340956       1.280093  United States  \n",
       "...            ...            ...            ...  \n",
       "9901      0.000000      18.500389  United States  \n",
       "9902    -70.666700      18.896608  United States  \n",
       "9903    275.203000      42.447877          Japan  \n",
       "9904    -12.410500      13.867596  United States  \n",
       "9905      0.000000      16.679304  United States  \n",
       "\n",
       "[9906 rows x 11 columns]"
      ]
     },
     "execution_count": 34,
     "metadata": {},
     "output_type": "execute_result"
    }
   ],
   "source": [
    "# merging the datasets\n",
    "merge_with_earnings=pd.merge(dataset_5,dataset_3,how='inner',on='Rank')\n",
    "merge_with_earnings"
   ]
  },
  {
   "cell_type": "code",
   "execution_count": 35,
   "id": "3ae8689b",
   "metadata": {
    "execution": {
     "iopub.execute_input": "2024-10-26T06:25:25.848139Z",
     "iopub.status.busy": "2024-10-26T06:25:25.846805Z",
     "iopub.status.idle": "2024-10-26T06:25:25.859384Z",
     "shell.execute_reply": "2024-10-26T06:25:25.857984Z"
    },
    "papermill": {
     "duration": 0.032493,
     "end_time": "2024-10-26T06:25:25.861702",
     "exception": false,
     "start_time": "2024-10-26T06:25:25.829209",
     "status": "completed"
    },
    "tags": []
   },
   "outputs": [
    {
     "name": "stdout",
     "output_type": "stream",
     "text": [
      "Correlation between Market Cap and P/E Ratio:\n",
      "               marketcap  pe_ratio_ttm\n",
      "marketcap      1.000000      0.001024\n",
      "pe_ratio_ttm   0.001024      1.000000\n"
     ]
    }
   ],
   "source": [
    "# find correlation between market cap and growth potential\n",
    "correlation = merge_with_earnings[['marketcap', 'pe_ratio_ttm']].corr()\n",
    "print(\"Correlation between Market Cap and P/E Ratio:\\n\", correlation)"
   ]
  },
  {
   "cell_type": "code",
   "execution_count": 36,
   "id": "399e82da",
   "metadata": {
    "execution": {
     "iopub.execute_input": "2024-10-26T06:25:25.897131Z",
     "iopub.status.busy": "2024-10-26T06:25:25.896107Z",
     "iopub.status.idle": "2024-10-26T06:25:25.907178Z",
     "shell.execute_reply": "2024-10-26T06:25:25.906125Z"
    },
    "papermill": {
     "duration": 0.031043,
     "end_time": "2024-10-26T06:25:25.909455",
     "exception": false,
     "start_time": "2024-10-26T06:25:25.878412",
     "status": "completed"
    },
    "tags": []
   },
   "outputs": [
    {
     "data": {
      "text/plain": [
       "0       3.104630\n",
       "1       2.801389\n",
       "2       2.607699\n",
       "3       1.788764\n",
       "4       1.738238\n",
       "          ...   \n",
       "9901    0.000000\n",
       "9902    0.000000\n",
       "9903    0.000000\n",
       "9904    0.000000\n",
       "9905    0.000000\n",
       "Name: Market Cap %, Length: 9906, dtype: float64"
      ]
     },
     "execution_count": 36,
     "metadata": {},
     "output_type": "execute_result"
    }
   ],
   "source": [
    "# Percentage of Total Market Cap\n",
    "total_market_cap=merge_with_earnings['marketcap'].sum()\n",
    "merge_with_earnings['Market Cap %']=(merge_with_earnings['marketcap']/total_market_cap*100.0)\n",
    "merge_with_earnings['Market Cap %']"
   ]
  },
  {
   "cell_type": "markdown",
   "id": "f2cab104",
   "metadata": {
    "papermill": {
     "duration": 0.016204,
     "end_time": "2024-10-26T06:25:25.942254",
     "exception": false,
     "start_time": "2024-10-26T06:25:25.926050",
     "status": "completed"
    },
    "tags": []
   },
   "source": []
  },
  {
   "cell_type": "code",
   "execution_count": 37,
   "id": "1bf711c3",
   "metadata": {
    "execution": {
     "iopub.execute_input": "2024-10-26T06:25:25.977497Z",
     "iopub.status.busy": "2024-10-26T06:25:25.976516Z",
     "iopub.status.idle": "2024-10-26T06:25:26.248910Z",
     "shell.execute_reply": "2024-10-26T06:25:26.247709Z"
    },
    "papermill": {
     "duration": 0.292223,
     "end_time": "2024-10-26T06:25:26.251259",
     "exception": false,
     "start_time": "2024-10-26T06:25:25.959036",
     "status": "completed"
    },
    "tags": []
   },
   "outputs": [
    {
     "data": {
      "image/png": "[encoded data removed]",
      "text/plain": [
       "<Figure size 800x800 with 1 Axes>"
      ]
     },
     "metadata": {},
     "output_type": "display_data"
    }
   ],
   "source": [
    "# Select top 10 companies by market cap\n",
    "top_10_marketcap = merge_with_earnings.nlargest(10, 'marketcap')\n",
    "\n",
    "# Plotting pie chart for top 10 companies by market cap\n",
    "plt.figure(figsize=(8, 8))\n",
    "plt.pie(top_10_marketcap['marketcap'], labels=top_10_marketcap['Name_x'], autopct='%1.1f%%', startangle=140, colors=sns.color_palette('Set3'))\n",
    "plt.title('Top 10 Companies by Market Capitalization')\n",
    "plt.axis('equal')  # Equal aspect ratio ensures that pie is drawn as a circle\n",
    "plt.show()"
   ]
  },
  {
   "cell_type": "markdown",
   "id": "2675aaac",
   "metadata": {
    "papermill": {
     "duration": 0.017419,
     "end_time": "2024-10-26T06:25:26.287239",
     "exception": false,
     "start_time": "2024-10-26T06:25:26.269820",
     "status": "completed"
    },
    "tags": []
   },
   "source": [
    "#  Evaluate how effectively companies convert revenue into earnings to assess profitability."
   ]
  },
  {
   "cell_type": "code",
   "execution_count": 38,
   "id": "b04beb4b",
   "metadata": {
    "execution": {
     "iopub.execute_input": "2024-10-26T06:25:26.324840Z",
     "iopub.status.busy": "2024-10-26T06:25:26.323753Z",
     "iopub.status.idle": "2024-10-26T06:25:26.350267Z",
     "shell.execute_reply": "2024-10-26T06:25:26.348983Z"
    },
    "papermill": {
     "duration": 0.047963,
     "end_time": "2024-10-26T06:25:26.352753",
     "exception": false,
     "start_time": "2024-10-26T06:25:26.304790",
     "status": "completed"
    },
    "tags": []
   },
   "outputs": [
    {
     "data": {
      "text/html": [
       "<div>\n",
       "<style scoped>\n",
       "    .dataframe tbody tr th:only-of-type {\n",
       "        vertical-align: middle;\n",
       "    }\n",
       "\n",
       "    .dataframe tbody tr th {\n",
       "        vertical-align: top;\n",
       "    }\n",
       "\n",
       "    .dataframe thead th {\n",
       "        text-align: right;\n",
       "    }\n",
       "</style>\n",
       "<table border=\"1\" class=\"dataframe\">\n",
       "  <thead>\n",
       "    <tr style=\"text-align: right;\">\n",
       "      <th></th>\n",
       "      <th>Rank</th>\n",
       "      <th>Name_x</th>\n",
       "      <th>Symbol_x</th>\n",
       "      <th>earnings_ttm</th>\n",
       "      <th>price (GBP)_x</th>\n",
       "      <th>country_x</th>\n",
       "      <th>Name_y</th>\n",
       "      <th>Symbol_y</th>\n",
       "      <th>revenue_ttm</th>\n",
       "      <th>price (GBP)_y</th>\n",
       "      <th>country_y</th>\n",
       "    </tr>\n",
       "  </thead>\n",
       "  <tbody>\n",
       "    <tr>\n",
       "      <th>0</th>\n",
       "      <td>1</td>\n",
       "      <td>Saudi Aramco</td>\n",
       "      <td>2222.SR</td>\n",
       "      <td>2.283780e+11</td>\n",
       "      <td>5.505405</td>\n",
       "      <td>Saudi Arabia</td>\n",
       "      <td>Walmart</td>\n",
       "      <td>WMT</td>\n",
       "      <td>665035000000</td>\n",
       "      <td>61.029186</td>\n",
       "      <td>United States</td>\n",
       "    </tr>\n",
       "    <tr>\n",
       "      <th>1</th>\n",
       "      <td>2</td>\n",
       "      <td>Apple</td>\n",
       "      <td>AAPL</td>\n",
       "      <td>1.216250e+11</td>\n",
       "      <td>176.734336</td>\n",
       "      <td>United States</td>\n",
       "      <td>Amazon</td>\n",
       "      <td>AMZN</td>\n",
       "      <td>604334000000</td>\n",
       "      <td>143.454209</td>\n",
       "      <td>United States</td>\n",
       "    </tr>\n",
       "    <tr>\n",
       "      <th>2</th>\n",
       "      <td>3</td>\n",
       "      <td>Microsoft</td>\n",
       "      <td>MSFT</td>\n",
       "      <td>1.077870e+11</td>\n",
       "      <td>326.461762</td>\n",
       "      <td>United States</td>\n",
       "      <td>Saudi Aramco</td>\n",
       "      <td>2222.SR</td>\n",
       "      <td>495354806850</td>\n",
       "      <td>5.505405</td>\n",
       "      <td>Saudi Arabia</td>\n",
       "    </tr>\n",
       "    <tr>\n",
       "      <th>3</th>\n",
       "      <td>4</td>\n",
       "      <td>Alphabet (Google)</td>\n",
       "      <td>GOOG</td>\n",
       "      <td>1.018210e+11</td>\n",
       "      <td>126.279631</td>\n",
       "      <td>United States</td>\n",
       "      <td>Sinopec</td>\n",
       "      <td>600028.SS</td>\n",
       "      <td>435696880608</td>\n",
       "      <td>0.748295</td>\n",
       "      <td>China</td>\n",
       "    </tr>\n",
       "    <tr>\n",
       "      <th>4</th>\n",
       "      <td>5</td>\n",
       "      <td>Berkshire Hathaway</td>\n",
       "      <td>BRK-B</td>\n",
       "      <td>8.890400e+10</td>\n",
       "      <td>347.625201</td>\n",
       "      <td>United States</td>\n",
       "      <td>PetroChina</td>\n",
       "      <td>601857.SS</td>\n",
       "      <td>429671599508</td>\n",
       "      <td>0.969769</td>\n",
       "      <td>China</td>\n",
       "    </tr>\n",
       "    <tr>\n",
       "      <th>...</th>\n",
       "      <td>...</td>\n",
       "      <td>...</td>\n",
       "      <td>...</td>\n",
       "      <td>...</td>\n",
       "      <td>...</td>\n",
       "      <td>...</td>\n",
       "      <td>...</td>\n",
       "      <td>...</td>\n",
       "      <td>...</td>\n",
       "      <td>...</td>\n",
       "      <td>...</td>\n",
       "    </tr>\n",
       "    <tr>\n",
       "      <th>9901</th>\n",
       "      <td>9908</td>\n",
       "      <td>Vodafone</td>\n",
       "      <td>VOD</td>\n",
       "      <td>-7.932050e+09</td>\n",
       "      <td>7.657698</td>\n",
       "      <td>United Kingdom</td>\n",
       "      <td>Kinnevik</td>\n",
       "      <td>KINV-A.ST</td>\n",
       "      <td>-755524598</td>\n",
       "      <td>6.067929</td>\n",
       "      <td>Sweden</td>\n",
       "    </tr>\n",
       "    <tr>\n",
       "      <th>9902</th>\n",
       "      <td>9909</td>\n",
       "      <td>Warner Bros. Discovery</td>\n",
       "      <td>WBD</td>\n",
       "      <td>-9.890000e+09</td>\n",
       "      <td>6.217594</td>\n",
       "      <td>United States</td>\n",
       "      <td>Sofina</td>\n",
       "      <td>SOF.VI</td>\n",
       "      <td>-1960650040</td>\n",
       "      <td>212.106043</td>\n",
       "      <td>Belgium</td>\n",
       "    </tr>\n",
       "    <tr>\n",
       "      <th>9903</th>\n",
       "      <td>9910</td>\n",
       "      <td>Walgreens Boots Alliance</td>\n",
       "      <td>WBA</td>\n",
       "      <td>-1.309100e+10</td>\n",
       "      <td>6.861450</td>\n",
       "      <td>United States</td>\n",
       "      <td>Quilter</td>\n",
       "      <td>QLT.L</td>\n",
       "      <td>-4921465842</td>\n",
       "      <td>1.331998</td>\n",
       "      <td>United Kingdom</td>\n",
       "    </tr>\n",
       "    <tr>\n",
       "      <th>9904</th>\n",
       "      <td>9911</td>\n",
       "      <td>Veolia</td>\n",
       "      <td>VIE.PA</td>\n",
       "      <td>-1.444810e+10</td>\n",
       "      <td>24.849801</td>\n",
       "      <td>France</td>\n",
       "      <td>M&amp;G plc</td>\n",
       "      <td>MNG.L</td>\n",
       "      <td>-10545825404</td>\n",
       "      <td>2.073004</td>\n",
       "      <td>United Kingdom</td>\n",
       "    </tr>\n",
       "    <tr>\n",
       "      <th>9905</th>\n",
       "      <td>9912</td>\n",
       "      <td>Maersk</td>\n",
       "      <td>MAERSK-B.CO</td>\n",
       "      <td>-1.730700e+10</td>\n",
       "      <td>1275.208636</td>\n",
       "      <td>Denmark</td>\n",
       "      <td>Phoenix Group</td>\n",
       "      <td>PHNX.L</td>\n",
       "      <td>-39227760552</td>\n",
       "      <td>5.630001</td>\n",
       "      <td>United Kingdom</td>\n",
       "    </tr>\n",
       "  </tbody>\n",
       "</table>\n",
       "<p>9906 rows × 11 columns</p>\n",
       "</div>"
      ],
      "text/plain": [
       "      Rank                    Name_x     Symbol_x  earnings_ttm  \\\n",
       "0        1              Saudi Aramco      2222.SR  2.283780e+11   \n",
       "1        2                     Apple         AAPL  1.216250e+11   \n",
       "2        3                 Microsoft         MSFT  1.077870e+11   \n",
       "3        4         Alphabet (Google)         GOOG  1.018210e+11   \n",
       "4        5        Berkshire Hathaway        BRK-B  8.890400e+10   \n",
       "...    ...                       ...          ...           ...   \n",
       "9901  9908                  Vodafone          VOD -7.932050e+09   \n",
       "9902  9909    Warner Bros. Discovery          WBD -9.890000e+09   \n",
       "9903  9910  Walgreens Boots Alliance          WBA -1.309100e+10   \n",
       "9904  9911                    Veolia       VIE.PA -1.444810e+10   \n",
       "9905  9912                    Maersk  MAERSK-B.CO -1.730700e+10   \n",
       "\n",
       "      price (GBP)_x       country_x         Name_y   Symbol_y   revenue_ttm  \\\n",
       "0          5.505405    Saudi Arabia        Walmart        WMT  665035000000   \n",
       "1        176.734336   United States         Amazon       AMZN  604334000000   \n",
       "2        326.461762   United States   Saudi Aramco    2222.SR  495354806850   \n",
       "3        126.279631   United States        Sinopec  600028.SS  435696880608   \n",
       "4        347.625201   United States     PetroChina  601857.SS  429671599508   \n",
       "...             ...             ...            ...        ...           ...   \n",
       "9901       7.657698  United Kingdom       Kinnevik  KINV-A.ST    -755524598   \n",
       "9902       6.217594   United States         Sofina     SOF.VI   -1960650040   \n",
       "9903       6.861450   United States        Quilter      QLT.L   -4921465842   \n",
       "9904      24.849801          France        M&G plc      MNG.L  -10545825404   \n",
       "9905    1275.208636         Denmark  Phoenix Group     PHNX.L  -39227760552   \n",
       "\n",
       "      price (GBP)_y       country_y  \n",
       "0         61.029186   United States  \n",
       "1        143.454209   United States  \n",
       "2          5.505405    Saudi Arabia  \n",
       "3          0.748295           China  \n",
       "4          0.969769           China  \n",
       "...             ...             ...  \n",
       "9901       6.067929          Sweden  \n",
       "9902     212.106043         Belgium  \n",
       "9903       1.331998  United Kingdom  \n",
       "9904       2.073004  United Kingdom  \n",
       "9905       5.630001  United Kingdom  \n",
       "\n",
       "[9906 rows x 11 columns]"
      ]
     },
     "execution_count": 38,
     "metadata": {},
     "output_type": "execute_result"
    }
   ],
   "source": [
    "#merge the datasets\n",
    "merge_with_revenue=pd.merge(dataset_2,dataset_4,how='inner',on='Rank')\n",
    "merge_with_revenue"
   ]
  },
  {
   "cell_type": "code",
   "execution_count": 39,
   "id": "fe6fdd7c",
   "metadata": {
    "execution": {
     "iopub.execute_input": "2024-10-26T06:25:26.390645Z",
     "iopub.status.busy": "2024-10-26T06:25:26.390237Z",
     "iopub.status.idle": "2024-10-26T06:25:26.416005Z",
     "shell.execute_reply": "2024-10-26T06:25:26.414894Z"
    },
    "papermill": {
     "duration": 0.047312,
     "end_time": "2024-10-26T06:25:26.418376",
     "exception": false,
     "start_time": "2024-10-26T06:25:26.371064",
     "status": "completed"
    },
    "tags": []
   },
   "outputs": [
    {
     "data": {
      "text/html": [
       "<div>\n",
       "<style scoped>\n",
       "    .dataframe tbody tr th:only-of-type {\n",
       "        vertical-align: middle;\n",
       "    }\n",
       "\n",
       "    .dataframe tbody tr th {\n",
       "        vertical-align: top;\n",
       "    }\n",
       "\n",
       "    .dataframe thead th {\n",
       "        text-align: right;\n",
       "    }\n",
       "</style>\n",
       "<table border=\"1\" class=\"dataframe\">\n",
       "  <thead>\n",
       "    <tr style=\"text-align: right;\">\n",
       "      <th></th>\n",
       "      <th>Rank</th>\n",
       "      <th>Name_x</th>\n",
       "      <th>Symbol_x</th>\n",
       "      <th>earnings_ttm</th>\n",
       "      <th>price (GBP)_x</th>\n",
       "      <th>country_x</th>\n",
       "      <th>Name_y</th>\n",
       "      <th>Symbol_y</th>\n",
       "      <th>revenue_ttm</th>\n",
       "      <th>price (GBP)_y</th>\n",
       "      <th>country_y</th>\n",
       "      <th>earnings_to_revenue</th>\n",
       "    </tr>\n",
       "  </thead>\n",
       "  <tbody>\n",
       "    <tr>\n",
       "      <th>9872</th>\n",
       "      <td>9879</td>\n",
       "      <td>Covivio</td>\n",
       "      <td>COV.PA</td>\n",
       "      <td>-2.332630e+09</td>\n",
       "      <td>46.187044</td>\n",
       "      <td>France</td>\n",
       "      <td>Immutep</td>\n",
       "      <td>IMMP</td>\n",
       "      <td>-276</td>\n",
       "      <td>1.722030</td>\n",
       "      <td>Australia</td>\n",
       "      <td>8.451558e+06</td>\n",
       "    </tr>\n",
       "    <tr>\n",
       "      <th>9873</th>\n",
       "      <td>9880</td>\n",
       "      <td>EchoStar</td>\n",
       "      <td>SATS</td>\n",
       "      <td>-2.333230e+09</td>\n",
       "      <td>19.262349</td>\n",
       "      <td>United States</td>\n",
       "      <td>SGT German Private Equity</td>\n",
       "      <td>GAI.DE</td>\n",
       "      <td>-286777</td>\n",
       "      <td>0.713493</td>\n",
       "      <td>Germany</td>\n",
       "      <td>8.136043e+03</td>\n",
       "    </tr>\n",
       "    <tr>\n",
       "      <th>9874</th>\n",
       "      <td>9881</td>\n",
       "      <td>IHS Towers</td>\n",
       "      <td>IHS</td>\n",
       "      <td>-2.359890e+09</td>\n",
       "      <td>2.312549</td>\n",
       "      <td>United Kingdom</td>\n",
       "      <td>Applied Therapeutics</td>\n",
       "      <td>APLT</td>\n",
       "      <td>-333000</td>\n",
       "      <td>6.408084</td>\n",
       "      <td>United States</td>\n",
       "      <td>7.086757e+03</td>\n",
       "    </tr>\n",
       "    <tr>\n",
       "      <th>9875</th>\n",
       "      <td>9882</td>\n",
       "      <td>Phoenix Group</td>\n",
       "      <td>PHNX.L</td>\n",
       "      <td>-2.457100e+09</td>\n",
       "      <td>5.630001</td>\n",
       "      <td>United Kingdom</td>\n",
       "      <td>Denison Mines</td>\n",
       "      <td>DNN</td>\n",
       "      <td>-518240</td>\n",
       "      <td>1.401244</td>\n",
       "      <td>Canada</td>\n",
       "      <td>4.741240e+03</td>\n",
       "    </tr>\n",
       "    <tr>\n",
       "      <th>9876</th>\n",
       "      <td>9883</td>\n",
       "      <td>Ørsted</td>\n",
       "      <td>DOGEF</td>\n",
       "      <td>-2.469340e+09</td>\n",
       "      <td>50.975124</td>\n",
       "      <td>Denmark</td>\n",
       "      <td>Phunware</td>\n",
       "      <td>PHUN</td>\n",
       "      <td>-1470000</td>\n",
       "      <td>2.659240</td>\n",
       "      <td>United States</td>\n",
       "      <td>1.679823e+03</td>\n",
       "    </tr>\n",
       "    <tr>\n",
       "      <th>...</th>\n",
       "      <td>...</td>\n",
       "      <td>...</td>\n",
       "      <td>...</td>\n",
       "      <td>...</td>\n",
       "      <td>...</td>\n",
       "      <td>...</td>\n",
       "      <td>...</td>\n",
       "      <td>...</td>\n",
       "      <td>...</td>\n",
       "      <td>...</td>\n",
       "      <td>...</td>\n",
       "      <td>...</td>\n",
       "    </tr>\n",
       "    <tr>\n",
       "      <th>9485</th>\n",
       "      <td>9492</td>\n",
       "      <td>Sable Offshore</td>\n",
       "      <td>SOC</td>\n",
       "      <td>-2.215760e+08</td>\n",
       "      <td>18.088930</td>\n",
       "      <td>United States</td>\n",
       "      <td>IO Biotech</td>\n",
       "      <td>IOBT</td>\n",
       "      <td>0</td>\n",
       "      <td>0.800058</td>\n",
       "      <td>Denmark</td>\n",
       "      <td>-inf</td>\n",
       "    </tr>\n",
       "    <tr>\n",
       "      <th>9486</th>\n",
       "      <td>9493</td>\n",
       "      <td>Kingsoft Cloud</td>\n",
       "      <td>KC</td>\n",
       "      <td>-2.218310e+08</td>\n",
       "      <td>2.369696</td>\n",
       "      <td>China</td>\n",
       "      <td>LianBio</td>\n",
       "      <td>LIAN</td>\n",
       "      <td>0</td>\n",
       "      <td>0.243065</td>\n",
       "      <td>United States</td>\n",
       "      <td>-inf</td>\n",
       "    </tr>\n",
       "    <tr>\n",
       "      <th>9487</th>\n",
       "      <td>9494</td>\n",
       "      <td>HUTCHMED</td>\n",
       "      <td>HCM</td>\n",
       "      <td>-2.218990e+08</td>\n",
       "      <td>15.170624</td>\n",
       "      <td>Hong Kong</td>\n",
       "      <td>Aura Biosciences</td>\n",
       "      <td>AURA</td>\n",
       "      <td>0</td>\n",
       "      <td>7.017652</td>\n",
       "      <td>United States</td>\n",
       "      <td>-inf</td>\n",
       "    </tr>\n",
       "    <tr>\n",
       "      <th>9488</th>\n",
       "      <td>9495</td>\n",
       "      <td>Verve Therapeutics</td>\n",
       "      <td>VERV</td>\n",
       "      <td>-2.219650e+08</td>\n",
       "      <td>3.771702</td>\n",
       "      <td>United States</td>\n",
       "      <td>Context Therapeutics</td>\n",
       "      <td>CNTX</td>\n",
       "      <td>0</td>\n",
       "      <td>1.447724</td>\n",
       "      <td>United States</td>\n",
       "      <td>-inf</td>\n",
       "    </tr>\n",
       "    <tr>\n",
       "      <th>9318</th>\n",
       "      <td>9325</td>\n",
       "      <td>Capitol Federal Savings Bank</td>\n",
       "      <td>CFFN</td>\n",
       "      <td>-1.512300e+08</td>\n",
       "      <td>4.400319</td>\n",
       "      <td>United States</td>\n",
       "      <td>KalVista Pharmaceuticals</td>\n",
       "      <td>KALV</td>\n",
       "      <td>0</td>\n",
       "      <td>9.409368</td>\n",
       "      <td>United States</td>\n",
       "      <td>-inf</td>\n",
       "    </tr>\n",
       "  </tbody>\n",
       "</table>\n",
       "<p>9906 rows × 12 columns</p>\n",
       "</div>"
      ],
      "text/plain": [
       "      Rank                        Name_x Symbol_x  earnings_ttm  \\\n",
       "9872  9879                       Covivio   COV.PA -2.332630e+09   \n",
       "9873  9880                      EchoStar     SATS -2.333230e+09   \n",
       "9874  9881                    IHS Towers      IHS -2.359890e+09   \n",
       "9875  9882                 Phoenix Group   PHNX.L -2.457100e+09   \n",
       "9876  9883                        Ørsted    DOGEF -2.469340e+09   \n",
       "...    ...                           ...      ...           ...   \n",
       "9485  9492                Sable Offshore      SOC -2.215760e+08   \n",
       "9486  9493                Kingsoft Cloud       KC -2.218310e+08   \n",
       "9487  9494                      HUTCHMED      HCM -2.218990e+08   \n",
       "9488  9495            Verve Therapeutics     VERV -2.219650e+08   \n",
       "9318  9325  Capitol Federal Savings Bank     CFFN -1.512300e+08   \n",
       "\n",
       "      price (GBP)_x       country_x                     Name_y Symbol_y  \\\n",
       "9872      46.187044          France                    Immutep     IMMP   \n",
       "9873      19.262349   United States  SGT German Private Equity   GAI.DE   \n",
       "9874       2.312549  United Kingdom       Applied Therapeutics     APLT   \n",
       "9875       5.630001  United Kingdom              Denison Mines      DNN   \n",
       "9876      50.975124         Denmark                   Phunware     PHUN   \n",
       "...             ...             ...                        ...      ...   \n",
       "9485      18.088930   United States                 IO Biotech     IOBT   \n",
       "9486       2.369696           China                    LianBio     LIAN   \n",
       "9487      15.170624       Hong Kong           Aura Biosciences     AURA   \n",
       "9488       3.771702   United States       Context Therapeutics     CNTX   \n",
       "9318       4.400319   United States   KalVista Pharmaceuticals     KALV   \n",
       "\n",
       "      revenue_ttm  price (GBP)_y      country_y  earnings_to_revenue  \n",
       "9872         -276       1.722030      Australia         8.451558e+06  \n",
       "9873      -286777       0.713493        Germany         8.136043e+03  \n",
       "9874      -333000       6.408084  United States         7.086757e+03  \n",
       "9875      -518240       1.401244         Canada         4.741240e+03  \n",
       "9876     -1470000       2.659240  United States         1.679823e+03  \n",
       "...           ...            ...            ...                  ...  \n",
       "9485            0       0.800058        Denmark                 -inf  \n",
       "9486            0       0.243065  United States                 -inf  \n",
       "9487            0       7.017652  United States                 -inf  \n",
       "9488            0       1.447724  United States                 -inf  \n",
       "9318            0       9.409368  United States                 -inf  \n",
       "\n",
       "[9906 rows x 12 columns]"
      ]
     },
     "execution_count": 39,
     "metadata": {},
     "output_type": "execute_result"
    }
   ],
   "source": [
    "merge_with_revenue['earnings_to_revenue']=merge_with_revenue['earnings_ttm']/merge_with_revenue['revenue_ttm']\n",
    "high_profitability=merge_with_revenue.sort_values(by='earnings_to_revenue',ascending=False)\n",
    "high_profitability"
   ]
  },
  {
   "cell_type": "markdown",
   "id": "f49abdc5",
   "metadata": {
    "papermill": {
     "duration": 0.01781,
     "end_time": "2024-10-26T06:25:26.454280",
     "exception": false,
     "start_time": "2024-10-26T06:25:26.436470",
     "status": "completed"
    },
    "tags": []
   },
   "source": [
    "# visualize"
   ]
  },
  {
   "cell_type": "code",
   "execution_count": 40,
   "id": "80ea1ea2",
   "metadata": {
    "execution": {
     "iopub.execute_input": "2024-10-26T06:25:26.493064Z",
     "iopub.status.busy": "2024-10-26T06:25:26.492029Z",
     "iopub.status.idle": "2024-10-26T06:25:27.006597Z",
     "shell.execute_reply": "2024-10-26T06:25:27.005418Z"
    },
    "papermill": {
     "duration": 0.536974,
     "end_time": "2024-10-26T06:25:27.009280",
     "exception": false,
     "start_time": "2024-10-26T06:25:26.472306",
     "status": "completed"
    },
    "tags": []
   },
   "outputs": [
    {
     "data": {
      "image/png": "[encoded data removed]",
      "text/plain": [
       "<Figure size 1000x600 with 2 Axes>"
      ]
     },
     "metadata": {},
     "output_type": "display_data"
    }
   ],
   "source": [
    "# Scatter plot of revenue vs earnings with color representing earnings-to-revenue ratio\n",
    "plt.figure(figsize=(10, 6))\n",
    "scatter = plt.scatter(x=merge_with_revenue['revenue_ttm'], \n",
    "                      y=merge_with_revenue['earnings_ttm'],\n",
    "                      c=merge_with_revenue['earnings_to_revenue'], \n",
    "                      cmap='coolwarm', alpha=0.6)\n",
    "plt.colorbar(scatter, label='Earnings to Revenue Ratio')\n",
    "plt.xlabel('Revenue (TTM)')\n",
    "plt.ylabel('Earnings (TTM)')\n",
    "plt.title('Revenue vs. Earnings with Earnings-to-Revenue Ratio')\n",
    "plt.show()\n"
   ]
  },
  {
   "cell_type": "markdown",
   "id": "44aec7e2",
   "metadata": {
    "papermill": {
     "duration": 0.019044,
     "end_time": "2024-10-26T06:25:27.048297",
     "exception": false,
     "start_time": "2024-10-26T06:25:27.029253",
     "status": "completed"
    },
    "tags": []
   },
   "source": [
    "#  Identify potential value stocks that offer both a high dividend yield and a low P/E ratio, which could be attractive for income-focused investors."
   ]
  },
  {
   "cell_type": "code",
   "execution_count": 41,
   "id": "17116249",
   "metadata": {
    "execution": {
     "iopub.execute_input": "2024-10-26T06:25:27.088513Z",
     "iopub.status.busy": "2024-10-26T06:25:27.087905Z",
     "iopub.status.idle": "2024-10-26T06:25:27.114017Z",
     "shell.execute_reply": "2024-10-26T06:25:27.112689Z"
    },
    "papermill": {
     "duration": 0.049793,
     "end_time": "2024-10-26T06:25:27.116795",
     "exception": false,
     "start_time": "2024-10-26T06:25:27.067002",
     "status": "completed"
    },
    "tags": []
   },
   "outputs": [
    {
     "name": "stdout",
     "output_type": "stream",
     "text": [
      "High Dividend Yield & Low P/E Ratio Companies:\n",
      "                          Name  dividend_yield_ttm  pe_ratio_ttm\n",
      "0                     LianBio            300940.0      0.109943\n",
      "1              Richter Gedeon            150430.0      0.188889\n",
      "2                 Delek Group            117114.0      0.224758\n",
      "3     LMP Automotive Holdings            106250.0      0.225293\n",
      "4                        MBIA             22346.4      0.340956\n",
      "...                       ...                 ...           ...\n",
      "9898       Lite-On Technology                 0.0      0.000000\n",
      "9899          Zensho Holdings                 0.0    -70.666700\n",
      "9900          BKV Corporation                 0.0    275.203000\n",
      "9901              BioAge Labs                 0.0    -12.410500\n",
      "9902         Legacy Education                 0.0      0.000000\n",
      "\n",
      "[9903 rows x 3 columns]\n"
     ]
    }
   ],
   "source": [
    "merge_with_dividend_yield=pd.merge(dataset_1,merge_with_earnings,how='inner',on='Rank')\n",
    "median_pe=merge_with_dividend_yield['pe_ratio_ttm'].median()\n",
    "high_dividend_ratio=merge_with_dividend_yield[(merge_with_dividend_yield['dividend_yield_ttm']>merge_with_dividend_yield['dividend_yield_ttm'].mean()) & (merge_with_dividend_yield['pe_ratio_ttm']<median_pe)]\n",
    "print(\"High Dividend Yield & Low P/E Ratio Companies:\\n\", merge_with_dividend_yield[['Name', 'dividend_yield_ttm', 'pe_ratio_ttm']])"
   ]
  },
  {
   "cell_type": "code",
   "execution_count": 42,
   "id": "4575c4b4",
   "metadata": {
    "execution": {
     "iopub.execute_input": "2024-10-26T06:25:27.156728Z",
     "iopub.status.busy": "2024-10-26T06:25:27.155913Z",
     "iopub.status.idle": "2024-10-26T06:25:27.566664Z",
     "shell.execute_reply": "2024-10-26T06:25:27.565536Z"
    },
    "papermill": {
     "duration": 0.433518,
     "end_time": "2024-10-26T06:25:27.569228",
     "exception": false,
     "start_time": "2024-10-26T06:25:27.135710",
     "status": "completed"
    },
    "tags": []
   },
   "outputs": [
    {
     "data": {
      "image/png": "[encoded data removed]",
      "text/plain": [
       "<Figure size 1200x800 with 1 Axes>"
      ]
     },
     "metadata": {},
     "output_type": "display_data"
    }
   ],
   "source": [
    "# Scatter plot\n",
    "plt.figure(figsize=(12, 8))\n",
    "sns.scatterplot(data=merge_with_dividend_yield, x='pe_ratio_ttm', y='dividend_yield_ttm', label='All Companies', alpha=0.6)\n",
    "sns.scatterplot(data=high_dividend_ratio, x='pe_ratio_ttm', y='dividend_yield_ttm', color='red', label='High Dividend & Low P/E', s=100)\n",
    "\n",
    "# Labels and Title\n",
    "plt.xlabel('P/E Ratio (TTM)')\n",
    "plt.ylabel('Dividend Yield (TTM)')\n",
    "plt.title('High Dividend & Low P/E Companies')\n",
    "plt.legend()\n",
    "plt.show()"
   ]
  }
 ],
 "metadata": {
  "kaggle": {
   "accelerator": "none",
   "dataSources": [
    {
     "datasetId": 5799719,
     "sourceId": 9524607,
     "sourceType": "datasetVersion"
    }
   ],
   "dockerImageVersionId": 30786,
   "isGpuEnabled": false,
   "isInternetEnabled": false,
   "language": "python",
   "sourceType": "notebook"
  },
  "kernelspec": {
   "display_name": "Python 3",
   "language": "python",
   "name": "python3"
  },
  "language_info": {
   "codemirror_mode": {
    "name": "ipython",
    "version": 3
   },
   "file_extension": ".py",
   "mimetype": "text/x-python",
   "name": "python",
   "nbconvert_exporter": "python",
   "pygments_lexer": "ipython3",
   "version": "3.10.14"
  },
  "papermill": {
   "default_parameters": {},
   "duration": 10.255072,
   "end_time": "2024-10-26T06:25:28.311112",
   "environment_variables": {},
   "exception": null,
   "input_path": "__notebook__.ipynb",
   "output_path": "__notebook__.ipynb",
   "parameters": {},
   "start_time": "2024-10-26T06:25:18.056040",
   "version": "2.6.0"
  }
 },
 "nbformat": 4,
 "nbformat_minor": 5
}
